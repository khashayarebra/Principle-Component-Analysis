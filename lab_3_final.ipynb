{
  "nbformat": 4,
  "nbformat_minor": 0,
  "metadata": {
    "kernelspec": {
      "display_name": "Python 3",
      "language": "python",
      "name": "python3"
    },
    "language_info": {
      "codemirror_mode": {
        "name": "ipython",
        "version": 3
      },
      "file_extension": ".py",
      "mimetype": "text/x-python",
      "name": "python",
      "nbconvert_exporter": "python",
      "pygments_lexer": "ipython3",
      "version": "3.7.4"
    },
    "colab": {
      "name": "lab_3_final.ipynb",
      "provenance": [],
      "collapsed_sections": []
    }
  },
  "cells": [
    {
      "cell_type": "markdown",
      "metadata": {
        "id": "view-in-github",
        "colab_type": "text"
      },
      "source": [
        "<a href=\"https://colab.research.google.com/github/aps1070-2019/All_Labs_Answers/blob/master/lab_3.ipynb\" target=\"_parent\"><img src=\"https://colab.research.google.com/assets/colab-badge.svg\" alt=\"Open In Colab\"/></a>"
      ]
    },
    {
      "cell_type": "markdown",
      "metadata": {
        "id": "OTpnyUEJrAjE",
        "colab_type": "text"
      },
      "source": [
        "# APS1070\n",
        "#### PCA - Project 3"
      ]
    },
    {
      "cell_type": "markdown",
      "metadata": {
        "id": "eksY8EXwrFhQ",
        "colab_type": "text"
      },
      "source": [
        "Project 3 is structured a bit differently than Projects 1 and 2 - here, all the code for the tutorial part is given. You're encouraged to read closely, adjust and experiment to make sure you fully understand what the code is doing. Once you have a firm grasp of PCA, you should be in great shape for the exercises at the end. Note that all 12.5 marks for this project are attributed to the exercises. The tutorial is not marked."
      ]
    },
    {
      "cell_type": "markdown",
      "metadata": {
        "id": "fUdJ6xw3rJIG",
        "colab_type": "text"
      },
      "source": [
        "Please fill out the following:\n",
        "\n",
        "\n",
        "*   Your **name**: **Khashayar Ebrahimi**\n",
        "*   Your **student number**: **1006556996**\n",
        "\n"
      ]
    },
    {
      "cell_type": "markdown",
      "metadata": {
        "heading_collapsed": true,
        "id": "oLFrnQo9wA4H",
        "colab_type": "text"
      },
      "source": [
        "## How to use this Notebook"
      ]
    },
    {
      "cell_type": "markdown",
      "metadata": {
        "hidden": true,
        "id": "Ryuq8mw8wA4J",
        "colab_type": "text"
      },
      "source": [
        "1. Run the cells to get a bird's eye view of whats going on.\n",
        "2. Interact with the code to better understand how it works - add cells, plot values, change parameters, etc.\n",
        "3. Complete exercises.\n"
      ]
    },
    {
      "cell_type": "markdown",
      "metadata": {
        "id": "Jn-UWaxnwA4K",
        "colab_type": "text"
      },
      "source": [
        "## Principle Component Analysis - Introduction"
      ]
    },
    {
      "cell_type": "markdown",
      "metadata": {
        "id": "kS-L6yG_wA4L",
        "colab_type": "text"
      },
      "source": [
        "### Principle Component Analysis"
      ]
    },
    {
      "cell_type": "markdown",
      "metadata": {
        "id": "4O1iW5umwA4N",
        "colab_type": "text"
      },
      "source": [
        "As you get deeper in the world of data science, you'll learn that in practice it's very uncommon to work with datasets that are 2 or 3 dimensional, and so can be plotted directly. We're now going to look at _dimensionality reduction_ : a category of unsupervised algorithms which attempt to collapse high-dimensional datasets into a low-dimensional space.\n",
        "\n",
        "As suggested above, one reason to do this is to aid visualization. However, that's far from the only reason dimensionality reduction is useful! These techniques also allow us to filter noise, extract useful features, and accomplish much more.\n",
        "\n",
        "Let's dive into PCA with the Iris dataset."
      ]
    },
    {
      "cell_type": "markdown",
      "metadata": {
        "heading_collapsed": true,
        "id": "bD4i39QVwA4O",
        "colab_type": "text"
      },
      "source": [
        "### PCA - Overview"
      ]
    },
    {
      "cell_type": "markdown",
      "metadata": {
        "hidden": true,
        "id": "C1__6BbHwA4Q",
        "colab_type": "text"
      },
      "source": [
        "1. Standardize the data.\n",
        "\n",
        "\n",
        "2. Obtain the Eigenvectors and Eigenvalues from the Covariance matrix (or Correlation matrix), or perform Singular Vector Decomposition.\n",
        "\n",
        "\n",
        "3. Sort eigenvalues in descending order and choose the 𝑘 eigenvectors that correspond to the 𝑘 largest eigenvalues where 𝑘 is the number of dimensions of the new feature subspace. 𝑘 is less than original dimensionality.\n",
        "\n",
        "\n",
        "4. Construct the projection matrix 𝐖 from the selected 𝑘 eigenvectors.\n",
        "\n",
        "\n",
        "5. Transform the original dataset 𝐗 via 𝐖 to obtain a 𝑘-dimensional feature subspace 𝐘."
      ]
    },
    {
      "cell_type": "markdown",
      "metadata": {
        "heading_collapsed": true,
        "id": "FNAgpf18wA4S",
        "colab_type": "text"
      },
      "source": [
        "## PCA - Iris dataset\n",
        "\n",
        "What's that flower?"
      ]
    },
    {
      "cell_type": "markdown",
      "metadata": {
        "heading_collapsed": true,
        "hidden": true,
        "id": "T43VN96KwA4T",
        "colab_type": "text"
      },
      "source": [
        "### Intro"
      ]
    },
    {
      "cell_type": "markdown",
      "metadata": {
        "hidden": true,
        "id": "lHl0WpQXwA4U",
        "colab_type": "text"
      },
      "source": [
        "For the following tutorial, we will be working with the famous \"Iris\" dataset that has been deposited on the UCI machine learning repository\n",
        "(https://archive.ics.uci.edu/ml/datasets/Iris).\n",
        "\n",
        "The iris dataset contains measurements for 150 iris flowers from three different species.\n",
        "\n",
        "The three classes in the Iris dataset are:\n",
        "1. Iris-setosa (n=50)\n",
        "1. Iris-versicolor (n=50)\n",
        "1. Iris-virginica (n=50)\n",
        "\n",
        "And the four features of in Iris dataset are:\n",
        "1. sepal length in cm\n",
        "1. sepal width in cm\n",
        "1. petal length in cm\n",
        "1. petal width in cm"
      ]
    },
    {
      "cell_type": "code",
      "metadata": {
        "hidden": true,
        "id": "b8sN2l0qwA4W",
        "colab_type": "code",
        "colab": {}
      },
      "source": [
        "import pandas as pd\n",
        "import numpy as np\n",
        "import matplotlib.pyplot as plt\n",
        "from sklearn.preprocessing import StandardScaler"
      ],
      "execution_count": 0,
      "outputs": []
    },
    {
      "cell_type": "code",
      "metadata": {
        "hidden": true,
        "id": "zZ5-gEypwA4Y",
        "colab_type": "code",
        "outputId": "b63f3f60-db2e-499d-ae27-087ffbfb838f",
        "colab": {
          "base_uri": "https://localhost:8080/",
          "height": 204
        }
      },
      "source": [
        "df = pd.read_csv(filepath_or_buffer='https://raw.githubusercontent.com/aps1070-2019/datasets/master/iris.data', \n",
        "    header=None, \n",
        "    sep=',')\n",
        "\n",
        "df.columns=['sepal_len', 'sepal_wid', 'petal_len', 'petal_wid', 'class']\n",
        "df.tail()"
      ],
      "execution_count": 0,
      "outputs": [
        {
          "output_type": "execute_result",
          "data": {
            "text/html": [
              "<div>\n",
              "<style scoped>\n",
              "    .dataframe tbody tr th:only-of-type {\n",
              "        vertical-align: middle;\n",
              "    }\n",
              "\n",
              "    .dataframe tbody tr th {\n",
              "        vertical-align: top;\n",
              "    }\n",
              "\n",
              "    .dataframe thead th {\n",
              "        text-align: right;\n",
              "    }\n",
              "</style>\n",
              "<table border=\"1\" class=\"dataframe\">\n",
              "  <thead>\n",
              "    <tr style=\"text-align: right;\">\n",
              "      <th></th>\n",
              "      <th>sepal_len</th>\n",
              "      <th>sepal_wid</th>\n",
              "      <th>petal_len</th>\n",
              "      <th>petal_wid</th>\n",
              "      <th>class</th>\n",
              "    </tr>\n",
              "  </thead>\n",
              "  <tbody>\n",
              "    <tr>\n",
              "      <th>145</th>\n",
              "      <td>6.7</td>\n",
              "      <td>3.0</td>\n",
              "      <td>5.2</td>\n",
              "      <td>2.3</td>\n",
              "      <td>Iris-virginica</td>\n",
              "    </tr>\n",
              "    <tr>\n",
              "      <th>146</th>\n",
              "      <td>6.3</td>\n",
              "      <td>2.5</td>\n",
              "      <td>5.0</td>\n",
              "      <td>1.9</td>\n",
              "      <td>Iris-virginica</td>\n",
              "    </tr>\n",
              "    <tr>\n",
              "      <th>147</th>\n",
              "      <td>6.5</td>\n",
              "      <td>3.0</td>\n",
              "      <td>5.2</td>\n",
              "      <td>2.0</td>\n",
              "      <td>Iris-virginica</td>\n",
              "    </tr>\n",
              "    <tr>\n",
              "      <th>148</th>\n",
              "      <td>6.2</td>\n",
              "      <td>3.4</td>\n",
              "      <td>5.4</td>\n",
              "      <td>2.3</td>\n",
              "      <td>Iris-virginica</td>\n",
              "    </tr>\n",
              "    <tr>\n",
              "      <th>149</th>\n",
              "      <td>5.9</td>\n",
              "      <td>3.0</td>\n",
              "      <td>5.1</td>\n",
              "      <td>1.8</td>\n",
              "      <td>Iris-virginica</td>\n",
              "    </tr>\n",
              "  </tbody>\n",
              "</table>\n",
              "</div>"
            ],
            "text/plain": [
              "     sepal_len  sepal_wid  petal_len  petal_wid           class\n",
              "145        6.7        3.0        5.2        2.3  Iris-virginica\n",
              "146        6.3        2.5        5.0        1.9  Iris-virginica\n",
              "147        6.5        3.0        5.2        2.0  Iris-virginica\n",
              "148        6.2        3.4        5.4        2.3  Iris-virginica\n",
              "149        5.9        3.0        5.1        1.8  Iris-virginica"
            ]
          },
          "metadata": {
            "tags": []
          },
          "execution_count": 53
        }
      ]
    },
    {
      "cell_type": "code",
      "metadata": {
        "hidden": true,
        "id": "Psv8_JdywA4c",
        "colab_type": "code",
        "colab": {}
      },
      "source": [
        "# split data table into data X and class labels y\n",
        "\n",
        "X = df.iloc[:,0:4].values\n",
        "y = df.iloc[:,4].values\n"
      ],
      "execution_count": 0,
      "outputs": []
    },
    {
      "cell_type": "code",
      "metadata": {
        "hidden": true,
        "id": "vaRZjIOxwA4d",
        "colab_type": "code",
        "outputId": "1ecc313c-c048-4104-b695-f03da8772d14",
        "colab": {
          "base_uri": "https://localhost:8080/",
          "height": 34
        }
      },
      "source": [
        "labels = set(y)\n",
        "labels"
      ],
      "execution_count": 0,
      "outputs": [
        {
          "output_type": "execute_result",
          "data": {
            "text/plain": [
              "{'Iris-setosa', 'Iris-versicolor', 'Iris-virginica'}"
            ]
          },
          "metadata": {
            "tags": []
          },
          "execution_count": 55
        }
      ]
    },
    {
      "cell_type": "markdown",
      "metadata": {
        "heading_collapsed": true,
        "hidden": true,
        "id": "L9ZDlBmcwA4f",
        "colab_type": "text"
      },
      "source": [
        "### Exploratory Data Analysis\n",
        "\n",
        "Let's explore a bit."
      ]
    },
    {
      "cell_type": "code",
      "metadata": {
        "hidden": true,
        "id": "dENHj85lwA4g",
        "colab_type": "code",
        "outputId": "bcb51851-77c8-4b70-ccd0-85d1acfa0f10",
        "colab": {
          "base_uri": "https://localhost:8080/",
          "height": 715
        }
      },
      "source": [
        "fig, axes = plt.subplots(2, 2, figsize=(12,12))\n",
        "noOfCols = X.shape[1]\n",
        "\n",
        "# iterate over each column (feature), and plot in separate sub-plot.\n",
        "for col in range(noOfCols):\n",
        "    # plot data for different labels for choosen column (feature).\n",
        "    for label in labels:\n",
        "        axes.flat[col].hist(X[y==label, col], alpha=0.5, label=label)\n",
        "        \n",
        "    axes.flat[col].legend(loc='upper right')\n",
        "    axes.flat[col].set(xlabel=df.columns[col], ylabel='count')"
      ],
      "execution_count": 0,
      "outputs": [
        {
          "output_type": "display_data",
          "data": {
            "image/png": "[encoded data removed]",
            "text/plain": [
              "<Figure size 864x864 with 4 Axes>"
            ]
          },
          "metadata": {
            "tags": []
          }
        }
      ]
    },
    {
      "cell_type": "markdown",
      "metadata": {
        "hidden": true,
        "id": "nXfzK9CcwA4h",
        "colab_type": "text"
      },
      "source": [
        "As one can see, no feature can on it's own predict the class of the flower."
      ]
    },
    {
      "cell_type": "markdown",
      "metadata": {
        "heading_collapsed": true,
        "hidden": true,
        "id": "O4j1k5kQwA4i",
        "colab_type": "text"
      },
      "source": [
        "### Standardizing Data"
      ]
    },
    {
      "cell_type": "markdown",
      "metadata": {
        "hidden": true,
        "id": "oBY8bzDIwA4i",
        "colab_type": "text"
      },
      "source": [
        "Since PCA yields a feature subspace that maximizes the variance along the axes, it makes sense to standardize the data, especially, if it was measured on different scales. \n",
        "\n",
        "Although, all features in the Iris dataset were measured in centimeters, let us continue with the transformation of the data onto unit scale (mean=0 and variance=1), which is a requirement for the optimal performance of many machine learning algorithms."
      ]
    },
    {
      "cell_type": "code",
      "metadata": {
        "hidden": true,
        "id": "yVjRCFeYwA4i",
        "colab_type": "code",
        "colab": {}
      },
      "source": [
        "X_std = StandardScaler().fit_transform(X)"
      ],
      "execution_count": 0,
      "outputs": []
    },
    {
      "cell_type": "code",
      "metadata": {
        "hidden": true,
        "id": "6FDq2CGrwA4k",
        "colab_type": "code",
        "outputId": "41febe05-5294-4058-f3a7-d30928592053",
        "colab": {
          "base_uri": "https://localhost:8080/",
          "height": 34
        }
      },
      "source": [
        "X[:, 0].mean(), X_std[:, 0].mean()"
      ],
      "execution_count": 0,
      "outputs": [
        {
          "output_type": "execute_result",
          "data": {
            "text/plain": [
              "(5.843333333333334, -4.736951571734001e-16)"
            ]
          },
          "metadata": {
            "tags": []
          },
          "execution_count": 58
        }
      ]
    },
    {
      "cell_type": "code",
      "metadata": {
        "hidden": true,
        "id": "QR_2aGVAwA4l",
        "colab_type": "code",
        "outputId": "e48392c4-be3f-4fc3-b91a-774526371e1f",
        "colab": {
          "base_uri": "https://localhost:8080/",
          "height": 34
        }
      },
      "source": [
        "X[:, 0].var(), X_std[:, 0].var()"
      ],
      "execution_count": 0,
      "outputs": [
        {
          "output_type": "execute_result",
          "data": {
            "text/plain": [
              "(0.6811222222222223, 1.0)"
            ]
          },
          "metadata": {
            "tags": []
          },
          "execution_count": 59
        }
      ]
    },
    {
      "cell_type": "markdown",
      "metadata": {
        "hidden": true,
        "id": "ygStRCddwA4m",
        "colab_type": "text"
      },
      "source": [
        "### Eigendecomposition - Computing Eigenvectors and Eigenvalues"
      ]
    },
    {
      "cell_type": "markdown",
      "metadata": {
        "hidden": true,
        "id": "ev9gsv6cwA4n",
        "colab_type": "text"
      },
      "source": [
        "The eigenvectors and eigenvalues of a covariance (or correlation) matrix represent the \"core\" of a PCA: The eigenvectors (principal components) determine the directions of the new feature space, and the eigenvalues determine their magnitude. In other words, the eigenvalues explain the variance of the data along the new feature axes.\n",
        "\n",
        "Methods to perform PCA:\n",
        "1. The classic approach to PCA is to perform the eigendecomposition on the covariance matrix Σ, which is a 𝑑×𝑑 matrix where each element represents the covariance between two features.\n",
        "2. But, most PCA implementations perform a Singular Vector Decomposition (SVD) to improve the computational efficiency."
      ]
    },
    {
      "cell_type": "markdown",
      "metadata": {
        "heading_collapsed": true,
        "hidden": true,
        "id": "Gv0o_pemwA4n",
        "colab_type": "text"
      },
      "source": [
        "#### Using Covariance Matrix"
      ]
    },
    {
      "cell_type": "code",
      "metadata": {
        "hidden": true,
        "id": "UTcVKn19wA4n",
        "colab_type": "code",
        "outputId": "e056f151-9f16-4a7c-c827-2f928338021d",
        "colab": {
          "base_uri": "https://localhost:8080/",
          "height": 102
        }
      },
      "source": [
        "n, m = X_std.shape\n",
        "\n",
        "# Compute covariance matrix\n",
        "C = np.dot(X_std.T, X_std) / (n-1) \n",
        "# or C = np.cov(X_std.T)\n",
        "\n",
        "# Eigen decomposition\n",
        "eigenValues, eigenVectors = np.linalg.eig(C) \n",
        "eigenVectors, eigenValues\n",
        "print(eigenVectors)\n",
        "print(eigenValues)"
      ],
      "execution_count": 0,
      "outputs": [
        {
          "output_type": "stream",
          "text": [
            "[[ 0.52237162 -0.37231836 -0.72101681  0.26199559]\n",
            " [-0.26335492 -0.92555649  0.24203288 -0.12413481]\n",
            " [ 0.58125401 -0.02109478  0.14089226 -0.80115427]\n",
            " [ 0.56561105 -0.06541577  0.6338014   0.52354627]]\n",
            "[2.93035378 0.92740362 0.14834223 0.02074601]\n"
          ],
          "name": "stdout"
        }
      ]
    },
    {
      "cell_type": "markdown",
      "metadata": {
        "heading_collapsed": true,
        "hidden": true,
        "id": "bz-PwewIwA4o",
        "colab_type": "text"
      },
      "source": [
        "#### Using Singular Vector Decomposition"
      ]
    },
    {
      "cell_type": "code",
      "metadata": {
        "hidden": true,
        "id": "KzrgL4OuwA4p",
        "colab_type": "code",
        "outputId": "815cd4ff-f5c1-4323-e95f-03510e1ebed6",
        "colab": {
          "base_uri": "https://localhost:8080/",
          "height": 102
        }
      },
      "source": [
        "eigenVectors, s, v = np.linalg.svd(X_std.T)\n",
        "print(eigenVectors)\n",
        "s"
      ],
      "execution_count": 0,
      "outputs": [
        {
          "output_type": "stream",
          "text": [
            "[[-0.52237162 -0.37231836  0.72101681  0.26199559]\n",
            " [ 0.26335492 -0.92555649 -0.24203288 -0.12413481]\n",
            " [-0.58125401 -0.02109478 -0.14089226 -0.80115427]\n",
            " [-0.56561105 -0.06541577 -0.6338014   0.52354627]]\n"
          ],
          "name": "stdout"
        },
        {
          "output_type": "execute_result",
          "data": {
            "text/plain": [
              "array([20.89551896, 11.75513248,  4.7013819 ,  1.75816839])"
            ]
          },
          "metadata": {
            "tags": []
          },
          "execution_count": 61
        }
      ]
    },
    {
      "cell_type": "code",
      "metadata": {
        "hidden": true,
        "id": "ugrgENIOwA4q",
        "colab_type": "code",
        "outputId": "47d16d50-1db3-4895-8cc6-d0f4ed615cd9",
        "colab": {
          "base_uri": "https://localhost:8080/",
          "height": 34
        }
      },
      "source": [
        "n, m = X_std.shape\n",
        "eigenValues = s**2/(n-1)\n",
        "eigenValues\n"
      ],
      "execution_count": 0,
      "outputs": [
        {
          "output_type": "execute_result",
          "data": {
            "text/plain": [
              "array([2.93035378, 0.92740362, 0.14834223, 0.02074601])"
            ]
          },
          "metadata": {
            "tags": []
          },
          "execution_count": 62
        }
      ]
    },
    {
      "cell_type": "markdown",
      "metadata": {
        "hidden": true,
        "id": "XsW_Z3nDwA4r",
        "colab_type": "text"
      },
      "source": [
        "Are the eigenVectors and the eigenValues returned by both the methods the same?"
      ]
    },
    {
      "cell_type": "markdown",
      "metadata": {
        "heading_collapsed": true,
        "hidden": true,
        "id": "hB8o63P1wA4r",
        "colab_type": "text"
      },
      "source": [
        "#### Sort based on eigenValues"
      ]
    },
    {
      "cell_type": "markdown",
      "metadata": {
        "hidden": true,
        "id": "f-B_5GCqwA4r",
        "colab_type": "text"
      },
      "source": [
        "Decreasing order of eigenValues.\n",
        "It was not needed in this case as eigenValues were already in decreasing order."
      ]
    },
    {
      "cell_type": "code",
      "metadata": {
        "hidden": true,
        "id": "GxQuArIxwA4s",
        "colab_type": "code",
        "outputId": "c199369c-7b83-41d3-e7b4-57dbc2364ae0",
        "colab": {
          "base_uri": "https://localhost:8080/",
          "height": 34
        }
      },
      "source": [
        "args = (-eigenValues).argsort()\n",
        "eigenValues = eigenValues[args]\n",
        "eigenVectors = eigenVectors[:, args]\n",
        "args"
      ],
      "execution_count": 0,
      "outputs": [
        {
          "output_type": "execute_result",
          "data": {
            "text/plain": [
              "array([0, 1, 2, 3])"
            ]
          },
          "metadata": {
            "tags": []
          },
          "execution_count": 63
        }
      ]
    },
    {
      "cell_type": "markdown",
      "metadata": {
        "hidden": true,
        "id": "W7lnbl5rwA4s",
        "colab_type": "text"
      },
      "source": [
        "### Explained Variance"
      ]
    },
    {
      "cell_type": "code",
      "metadata": {
        "hidden": true,
        "id": "uAHXFWEhwA4t",
        "colab_type": "code",
        "outputId": "b4e4f864-b80e-4e95-b805-efcb479bf6f2",
        "colab": {
          "base_uri": "https://localhost:8080/",
          "height": 34
        }
      },
      "source": [
        "eigValSum = sum(eigenValues)\n",
        "expVar = [eigV/eigValSum*100 for eigV in eigenValues]\n",
        "cumExpVar = np.cumsum(expVar)\n",
        "cumExpVar\n"
      ],
      "execution_count": 0,
      "outputs": [
        {
          "output_type": "execute_result",
          "data": {
            "text/plain": [
              "array([ 72.77045209,  95.80097536,  99.48480732, 100.        ])"
            ]
          },
          "metadata": {
            "tags": []
          },
          "execution_count": 64
        }
      ]
    },
    {
      "cell_type": "code",
      "metadata": {
        "hidden": true,
        "id": "eOWbN9JMwA4u",
        "colab_type": "code",
        "outputId": "700d0a2b-08fd-495e-df4e-eb4b58f3694d",
        "colab": {
          "base_uri": "https://localhost:8080/",
          "height": 265
        }
      },
      "source": [
        "plt.bar(range(4), expVar, label='Explained Variance')\n",
        "plt.plot(cumExpVar, 'r-o', label='Cumulative Explained Variance')\n",
        "plt.legend()\n",
        "plt.show()"
      ],
      "execution_count": 0,
      "outputs": [
        {
          "output_type": "display_data",
          "data": {
            "image/png": "[encoded data removed]",
            "text/plain": [
              "<Figure size 432x288 with 1 Axes>"
            ]
          },
          "metadata": {
            "tags": []
          }
        }
      ]
    },
    {
      "cell_type": "markdown",
      "metadata": {
        "hidden": true,
        "id": "piPsUb_WwA4w",
        "colab_type": "text"
      },
      "source": [
        "How many eigenValues are needed to explain more than 95% of variance?"
      ]
    },
    {
      "cell_type": "markdown",
      "metadata": {
        "hidden": true,
        "id": "hKdHSIMRwA4w",
        "colab_type": "text"
      },
      "source": [
        "### Projections"
      ]
    },
    {
      "cell_type": "markdown",
      "metadata": {
        "hidden": true,
        "id": "TwRgX29MwA4w",
        "colab_type": "text"
      },
      "source": [
        "Since only 2 eigenVectors are enough to explain more than 95% of variance, we'll create the projection matrix using the first 2 eigenVectors."
      ]
    },
    {
      "cell_type": "code",
      "metadata": {
        "hidden": true,
        "id": "Qk8M2BZ-wA4x",
        "colab_type": "code",
        "outputId": "baae696b-ad35-46e8-c8fa-53dde0e7d7bf",
        "colab": {
          "base_uri": "https://localhost:8080/",
          "height": 85
        }
      },
      "source": [
        "COUNT = 2\n",
        "W = eigenVectors[:, 0:COUNT]\n",
        "W"
      ],
      "execution_count": 0,
      "outputs": [
        {
          "output_type": "execute_result",
          "data": {
            "text/plain": [
              "array([[-0.52237162, -0.37231836],\n",
              "       [ 0.26335492, -0.92555649],\n",
              "       [-0.58125401, -0.02109478],\n",
              "       [-0.56561105, -0.06541577]])"
            ]
          },
          "metadata": {
            "tags": []
          },
          "execution_count": 66
        }
      ]
    },
    {
      "cell_type": "code",
      "metadata": {
        "hidden": true,
        "id": "XJtZ0sm9wA4y",
        "colab_type": "code",
        "outputId": "b50556d7-8be1-4e8b-bc1a-d7b2c5c1dabd",
        "colab": {
          "base_uri": "https://localhost:8080/",
          "height": 34
        }
      },
      "source": [
        "projX = np.dot(X_std, W)\n",
        "X.shape, projX.shape"
      ],
      "execution_count": 0,
      "outputs": [
        {
          "output_type": "execute_result",
          "data": {
            "text/plain": [
              "((150, 4), (150, 2))"
            ]
          },
          "metadata": {
            "tags": []
          },
          "execution_count": 67
        }
      ]
    },
    {
      "cell_type": "code",
      "metadata": {
        "hidden": true,
        "id": "WBsjMusWwA4z",
        "colab_type": "code",
        "outputId": "d1d35607-a469-4261-8f7d-713ce686bb18",
        "colab": {
          "base_uri": "https://localhost:8080/",
          "height": 265
        }
      },
      "source": [
        "for label in labels:\n",
        "    plt.plot(projX[y==label, 0], projX[y==label, 1], 'o', label=label)\n",
        "    plt.legend(loc='upper right')"
      ],
      "execution_count": 0,
      "outputs": [
        {
          "output_type": "display_data",
          "data": {
            "image/png": "[encoded data removed]",
            "text/plain": [
              "<Figure size 432x288 with 1 Axes>"
            ]
          },
          "metadata": {
            "tags": []
          }
        }
      ]
    },
    {
      "cell_type": "markdown",
      "metadata": {
        "hidden": true,
        "id": "KLcjU-SpwA40",
        "colab_type": "text"
      },
      "source": [
        "What has PCA helped us achieve here?\n",
        "\n",
        "1. Visualization: easier visualization of all 3 classes\n",
        "2. Classification: a flower of unknown class can be plotted here, and then classified visually or using algorithms (such as KNNs) "
      ]
    },
    {
      "cell_type": "markdown",
      "metadata": {
        "hidden": true,
        "id": "gJCJALLSwA40",
        "colab_type": "text"
      },
      "source": [
        "We have used PCA on numerical data. But can it used on Image data?"
      ]
    },
    {
      "cell_type": "markdown",
      "metadata": {
        "id": "LdrcWQkPwA41",
        "colab_type": "text"
      },
      "source": [
        "## Eigenfaces\n",
        "\n",
        "Let's face the Eigen."
      ]
    },
    {
      "cell_type": "markdown",
      "metadata": {
        "id": "IwvTIP_owA41",
        "colab_type": "text"
      },
      "source": [
        "### Intro"
      ]
    },
    {
      "cell_type": "markdown",
      "metadata": {
        "id": "vE2BzmQwwA41",
        "colab_type": "text"
      },
      "source": [
        "**Eigenfaces** is the name given to a set of **eigenvectors** when they are used in the computer vision problem of human face recognition. The approach of using eigenfaces for recognition was developed by Sirovich and Kirby (1987) and used by Matthew Turk and Alex Pentland in face classification."
      ]
    },
    {
      "cell_type": "markdown",
      "metadata": {
        "id": "Z2tIECfhwA41",
        "colab_type": "text"
      },
      "source": [
        "Eigenfaces refers to an appearance-based approach to face recognition that seeks to capture the variation in a collection of face images and use this information to encode and compare images of individual faces in a holistic (as opposed to a parts-based or feature-based) manner. "
      ]
    },
    {
      "cell_type": "markdown",
      "metadata": {
        "id": "_enOO43OwA42",
        "colab_type": "text"
      },
      "source": [
        "The motivation of Eigenfaces is twofold:\n",
        "\n",
        "1. Extract the relevant facial information, which may or may not be directly related to human intuition of face features such as the eyes, nose, and lips. One way to do so is to capture the statistical variation between face images.\n",
        "2. Represent face images efficiently. To reduce the computation and space complexity, each face image can be represented using a small number of parameters."
      ]
    },
    {
      "cell_type": "markdown",
      "metadata": {
        "id": "QIhpwQNywA42",
        "colab_type": "text"
      },
      "source": [
        "Images are downloaded from [Labeled Faces in the Wild](http://vis-www.cs.umass.edu/lfw/)."
      ]
    },
    {
      "cell_type": "code",
      "metadata": {
        "id": "SBMcokRhwA42",
        "colab_type": "code",
        "outputId": "140bfb07-5732-4a36-b381-4a070d2e3500",
        "colab": {
          "base_uri": "https://localhost:8080/",
          "height": 34
        }
      },
      "source": [
        "!pip install wget"
      ],
      "execution_count": 0,
      "outputs": [
        {
          "output_type": "stream",
          "text": [
            "Requirement already satisfied: wget in /usr/local/lib/python3.6/dist-packages (3.2)\n"
          ],
          "name": "stdout"
        }
      ]
    },
    {
      "cell_type": "code",
      "metadata": {
        "id": "oGUeUKD3wA43",
        "colab_type": "code",
        "colab": {}
      },
      "source": [
        "import os\n",
        "import numpy as np\n",
        "from PIL import Image\n",
        "import matplotlib.pyplot as plt\n",
        "import wget\n",
        "import math"
      ],
      "execution_count": 0,
      "outputs": []
    },
    {
      "cell_type": "code",
      "metadata": {
        "id": "W4Gmb-W_wA44",
        "colab_type": "code",
        "outputId": "26953fa7-872e-4fcd-9831-22024e4d6592",
        "colab": {
          "base_uri": "https://localhost:8080/",
          "height": 1000
        }
      },
      "source": [
        "# Download and unzip dataset.\n",
        "filename = wget.download('https://github.com/aps1070-2019/datasets/raw/master/lfw-a.tgz', 'lfw-a.tgz')\n",
        "!tar -xvzf \"{filename}\""
      ],
      "execution_count": 0,
      "outputs": [
        {
          "output_type": "stream",
          "text": [
            "lfw/Aaron_Eckhart/\n",
            "lfw/Aaron_Eckhart/Aaron_Eckhart_0001.jpg\n",
            "lfw/Aaron_Guiel/\n",
            "lfw/Aaron_Guiel/Aaron_Guiel_0001.jpg\n",
            "lfw/Aaron_Patterson/\n",
            "lfw/Aaron_Patterson/Aaron_Patterson_0001.jpg\n",
            "lfw/Aaron_Peirsol/\n",
            "lfw/Aaron_Peirsol/Aaron_Peirsol_0001.jpg\n",
            "lfw/Aaron_Peirsol/Aaron_Peirsol_0002.jpg\n",
            "lfw/Aaron_Peirsol/Aaron_Peirsol_0003.jpg\n",
            "lfw/Aaron_Peirsol/Aaron_Peirsol_0004.jpg\n",
            "lfw/Aaron_Pena/\n",
            "lfw/Aaron_Pena/Aaron_Pena_0001.jpg\n",
            "lfw/Aaron_Sorkin/\n",
            "lfw/Aaron_Sorkin/Aaron_Sorkin_0001.jpg\n",
            "lfw/Aaron_Sorkin/Aaron_Sorkin_0002.jpg\n",
            "lfw/Aaron_Tippin/\n",
            "lfw/Aaron_Tippin/Aaron_Tippin_0001.jpg\n",
            "lfw/Abba_Eban/\n",
            "lfw/Abba_Eban/Abba_Eban_0001.jpg\n",
            "lfw/Abbas_Kiarostami/\n",
            "lfw/Abbas_Kiarostami/Abbas_Kiarostami_0001.jpg\n",
            "lfw/Abdel_Aziz_Al-Hakim/\n",
            "lfw/Abdel_Aziz_Al-Hakim/Abdel_Aziz_Al-Hakim_0001.jpg\n",
            "lfw/Abdel_Madi_Shabneh/\n",
            "lfw/Abdel_Madi_Shabneh/Abdel_Madi_Shabneh_0001.jpg\n",
            "lfw/Abdel_Nasser_Assidi/\n",
            "lfw/Abdel_Nasser_Assidi/Abdel_Nasser_Assidi_0001.jpg\n",
            "lfw/Abdel_Nasser_Assidi/Abdel_Nasser_Assidi_0002.jpg\n",
            "lfw/Abdoulaye_Wade/\n",
            "lfw/Abdoulaye_Wade/Abdoulaye_Wade_0001.jpg\n",
            "lfw/Abdoulaye_Wade/Abdoulaye_Wade_0002.jpg\n",
            "lfw/Abdoulaye_Wade/Abdoulaye_Wade_0003.jpg\n",
            "lfw/Abdoulaye_Wade/Abdoulaye_Wade_0004.jpg\n",
            "lfw/Abdulaziz_Kamilov/\n",
            "lfw/Abdulaziz_Kamilov/Abdulaziz_Kamilov_0001.jpg\n",
            "lfw/Abdullah/\n",
            "lfw/Abdullah/Abdullah_0001.jpg\n",
            "lfw/Abdullah/Abdullah_0002.jpg\n",
            "lfw/Abdullah/Abdullah_0003.jpg\n",
            "lfw/Abdullah/Abdullah_0004.jpg\n",
            "lfw/Abdullah_Ahmad_Badawi/\n",
            "lfw/Abdullah_Ahmad_Badawi/Abdullah_Ahmad_Badawi_0001.jpg\n",
            "lfw/Abdullah_al-Attiyah/\n",
            "lfw/Abdullah_al-Attiyah/Abdullah_al-Attiyah_0001.jpg\n",
            "lfw/Abdullah_al-Attiyah/Abdullah_al-Attiyah_0002.jpg\n",
            "lfw/Abdullah_al-Attiyah/Abdullah_al-Attiyah_0003.jpg\n",
            "lfw/Abdullah_Gul/\n",
            "lfw/Abdullah_Gul/Abdullah_Gul_0001.jpg\n",
            "lfw/Abdullah_Gul/Abdullah_Gul_0002.jpg\n",
            "lfw/Abdullah_Gul/Abdullah_Gul_0003.jpg\n",
            "lfw/Abdullah_Gul/Abdullah_Gul_0004.jpg\n",
            "lfw/Abdullah_Gul/Abdullah_Gul_0005.jpg\n",
            "lfw/Abdullah_Gul/Abdullah_Gul_0006.jpg\n",
            "lfw/Abdullah_Gul/Abdullah_Gul_0007.jpg\n",
            "lfw/Abdullah_Gul/Abdullah_Gul_0008.jpg\n",
            "lfw/Abdullah_Gul/Abdullah_Gul_0009.jpg\n",
            "lfw/Abdullah_Gul/Abdullah_Gul_0010.jpg\n",
            "lfw/Abdullah_Gul/Abdullah_Gul_0011.jpg\n",
            "lfw/Abdullah_Gul/Abdullah_Gul_0012.jpg\n",
            "lfw/Abdullah_Gul/Abdullah_Gul_0013.jpg\n",
            "lfw/Abdullah_Gul/Abdullah_Gul_0014.jpg\n",
            "lfw/Abdullah_Gul/Abdullah_Gul_0015.jpg\n",
            "lfw/Abdullah_Gul/Abdullah_Gul_0016.jpg\n",
            "lfw/Abdullah_Gul/Abdullah_Gul_0017.jpg\n",
            "lfw/Abdullah_Gul/Abdullah_Gul_0018.jpg\n",
            "lfw/Abdullah_Gul/Abdullah_Gul_0019.jpg\n",
            "lfw/Abdullah_Nasseef/\n",
            "lfw/Abdullah_Nasseef/Abdullah_Nasseef_0001.jpg\n",
            "lfw/Abdullatif_Sener/\n",
            "lfw/Abdullatif_Sener/Abdullatif_Sener_0001.jpg\n",
            "lfw/Abdullatif_Sener/Abdullatif_Sener_0002.jpg\n",
            "lfw/Abdul_Majeed_Shobokshi/\n",
            "lfw/Abdul_Majeed_Shobokshi/Abdul_Majeed_Shobokshi_0001.jpg\n",
            "lfw/Abdul_Rahman/\n",
            "lfw/Abdul_Rahman/Abdul_Rahman_0001.jpg\n",
            "lfw/Abel_Aguilar/\n",
            "lfw/Abel_Aguilar/Abel_Aguilar_0001.jpg\n",
            "lfw/Abel_Pacheco/\n",
            "lfw/Abel_Pacheco/Abel_Pacheco_0001.jpg\n",
            "lfw/Abel_Pacheco/Abel_Pacheco_0002.jpg\n",
            "lfw/Abel_Pacheco/Abel_Pacheco_0003.jpg\n",
            "lfw/Abel_Pacheco/Abel_Pacheco_0004.jpg\n",
            "lfw/Abid_Hamid_Mahmud_Al-Tikriti/\n",
            "lfw/Abid_Hamid_Mahmud_Al-Tikriti/Abid_Hamid_Mahmud_Al-Tikriti_0001.jpg\n",
            "lfw/Abid_Hamid_Mahmud_Al-Tikriti/Abid_Hamid_Mahmud_Al-Tikriti_0002.jpg\n",
            "lfw/Abid_Hamid_Mahmud_Al-Tikriti/Abid_Hamid_Mahmud_Al-Tikriti_0003.jpg\n",
            "lfw/Abner_Martinez/\n",
            "lfw/Abner_Martinez/Abner_Martinez_0001.jpg\n",
            "lfw/Abraham_Foxman/\n",
            "lfw/Abraham_Foxman/Abraham_Foxman_0001.jpg\n",
            "lfw/Aby_Har-Even/\n",
            "lfw/Aby_Har-Even/Aby_Har-Even_0001.jpg\n",
            "lfw/Adam_Ant/\n",
            "lfw/Adam_Ant/Adam_Ant_0001.jpg\n",
            "lfw/Adam_Freier/\n",
            "lfw/Adam_Freier/Adam_Freier_0001.jpg\n",
            "lfw/Adam_Herbert/\n",
            "lfw/Adam_Herbert/Adam_Herbert_0001.jpg\n",
            "lfw/Adam_Kennedy/\n",
            "lfw/Adam_Kennedy/Adam_Kennedy_0001.jpg\n",
            "lfw/Adam_Mair/\n",
            "lfw/Adam_Mair/Adam_Mair_0001.jpg\n",
            "lfw/Adam_Rich/\n",
            "lfw/Adam_Rich/Adam_Rich_0001.jpg\n",
            "lfw/Adam_Sandler/\n",
            "lfw/Adam_Sandler/Adam_Sandler_0001.jpg\n",
            "lfw/Adam_Sandler/Adam_Sandler_0002.jpg\n",
            "lfw/Adam_Sandler/Adam_Sandler_0003.jpg\n",
            "lfw/Adam_Sandler/Adam_Sandler_0004.jpg\n",
            "lfw/Adam_Scott/\n",
            "lfw/Adam_Scott/Adam_Scott_0001.jpg\n",
            "lfw/Adam_Scott/Adam_Scott_0002.jpg\n",
            "lfw/Adel_Al-Jubeir/\n",
            "lfw/Adel_Al-Jubeir/Adel_Al-Jubeir_0001.jpg\n",
            "lfw/Adel_Al-Jubeir/Adel_Al-Jubeir_0002.jpg\n",
            "lfw/Adel_Al-Jubeir/Adel_Al-Jubeir_0003.jpg\n",
            "lfw/Adelina_Avila/\n",
            "lfw/Adelina_Avila/Adelina_Avila_0001.jpg\n",
            "lfw/Adisai_Bodharamik/\n",
            "lfw/Adisai_Bodharamik/Adisai_Bodharamik_0001.jpg\n",
            "lfw/Adolfo_Aguilar_Zinser/\n",
            "lfw/Adolfo_Aguilar_Zinser/Adolfo_Aguilar_Zinser_0001.jpg\n",
            "lfw/Adolfo_Aguilar_Zinser/Adolfo_Aguilar_Zinser_0002.jpg\n",
            "lfw/Adolfo_Aguilar_Zinser/Adolfo_Aguilar_Zinser_0003.jpg\n",
            "lfw/Adolfo_Rodriguez_Saa/\n",
            "lfw/Adolfo_Rodriguez_Saa/Adolfo_Rodriguez_Saa_0001.jpg\n",
            "lfw/Adolfo_Rodriguez_Saa/Adolfo_Rodriguez_Saa_0002.jpg\n",
            "lfw/Adoor_Gopalakarishnan/\n",
            "lfw/Adoor_Gopalakarishnan/Adoor_Gopalakarishnan_0001.jpg\n",
            "lfw/Adriana_Lima/\n",
            "lfw/Adriana_Lima/Adriana_Lima_0001.jpg\n",
            "lfw/Adrian_Annus/\n",
            "lfw/Adrian_Annus/Adrian_Annus_0001.jpg\n",
            "lfw/Adriana_Perez_Navarro/\n",
            "lfw/Adriana_Perez_Navarro/Adriana_Perez_Navarro_0001.jpg\n",
            "lfw/Adrian_Fernandez/\n",
            "lfw/Adrian_Fernandez/Adrian_Fernandez_0001.jpg\n",
            "lfw/Adrian_McPherson/\n",
            "lfw/Adrian_McPherson/Adrian_McPherson_0001.jpg\n",
            "lfw/Adrian_McPherson/Adrian_McPherson_0002.jpg\n",
            "lfw/Adrian_Murrell/\n",
            "lfw/Adrian_Murrell/Adrian_Murrell_0001.jpg\n",
            "lfw/Adrian_Nastase/\n",
            "lfw/Adrian_Nastase/Adrian_Nastase_0001.jpg\n",
            "lfw/Adrian_Nastase/Adrian_Nastase_0002.jpg\n",
            "lfw/Adrianna_Zuzic/\n",
            "lfw/Adrianna_Zuzic/Adrianna_Zuzic_0001.jpg\n",
            "lfw/Adrien_Brody/\n",
            "lfw/Adrien_Brody/Adrien_Brody_0001.jpg\n",
            "lfw/Adrien_Brody/Adrien_Brody_0002.jpg\n",
            "lfw/Adrien_Brody/Adrien_Brody_0003.jpg\n",
            "lfw/Adrien_Brody/Adrien_Brody_0004.jpg\n",
            "lfw/Adrien_Brody/Adrien_Brody_0005.jpg\n",
            "lfw/Adrien_Brody/Adrien_Brody_0006.jpg\n",
            "lfw/Adrien_Brody/Adrien_Brody_0007.jpg\n",
            "lfw/Adrien_Brody/Adrien_Brody_0008.jpg\n",
            "lfw/Adrien_Brody/Adrien_Brody_0009.jpg\n",
            "lfw/Adrien_Brody/Adrien_Brody_0010.jpg\n",
            "lfw/Adrien_Brody/Adrien_Brody_0011.jpg\n",
            "lfw/Adrien_Brody/Adrien_Brody_0012.jpg\n",
            "lfw/Afton_Smith/\n",
            "lfw/Afton_Smith/Afton_Smith_0001.jpg\n",
            "lfw/Agbani_Darego/\n",
            "lfw/Agbani_Darego/Agbani_Darego_0001.jpg\n",
            "lfw/Agnelo_Queiroz/\n",
            "lfw/Agnelo_Queiroz/Agnelo_Queiroz_0001.jpg\n",
            "lfw/Agnes_Bruckner/\n",
            "lfw/Agnes_Bruckner/Agnes_Bruckner_0001.jpg\n",
            "lfw/Ahmad_Jbarah/\n",
            "lfw/Ahmad_Jbarah/Ahmad_Jbarah_0001.jpg\n",
            "lfw/Ahmad_Masood/\n",
            "lfw/Ahmad_Masood/Ahmad_Masood_0001.jpg\n",
            "lfw/Ahmad_Masood/Ahmad_Masood_0002.jpg\n",
            "lfw/Ahmed_Ahmed/\n",
            "lfw/Ahmed_Ahmed/Ahmed_Ahmed_0001.jpg\n",
            "lfw/Ahmed_Chalabi/\n",
            "lfw/Ahmed_Chalabi/Ahmed_Chalabi_0001.jpg\n",
            "lfw/Ahmed_Chalabi/Ahmed_Chalabi_0002.jpg\n",
            "lfw/Ahmed_Chalabi/Ahmed_Chalabi_0003.jpg\n",
            "lfw/Ahmed_Chalabi/Ahmed_Chalabi_0004.jpg\n",
            "lfw/Ahmed_Chalabi/Ahmed_Chalabi_0005.jpg\n",
            "lfw/Ahmed_Ghazi/\n",
            "lfw/Ahmed_Ghazi/Ahmed_Ghazi_0001.jpg\n",
            "lfw/Ahmed_Ibrahim_Bilal/\n",
            "lfw/Ahmed_Ibrahim_Bilal/Ahmed_Ibrahim_Bilal_0001.jpg\n",
            "lfw/Ahmed_Lopez/\n",
            "lfw/Ahmed_Lopez/Ahmed_Lopez_0001.jpg\n",
            "lfw/Ahmed_Qureia/\n",
            "lfw/Ahmed_Qureia/Ahmed_Qureia_0001.jpg\n",
            "lfw/Ahmet_Demir/\n",
            "lfw/Ahmet_Demir/Ahmet_Demir_0001.jpg\n",
            "lfw/Ahmet_Necdet_Sezer/\n",
            "lfw/Ahmet_Necdet_Sezer/Ahmet_Necdet_Sezer_0001.jpg\n",
            "lfw/Ahmet_Necdet_Sezer/Ahmet_Necdet_Sezer_0002.jpg\n",
            "lfw/Aicha_El_Ouafi/\n",
            "lfw/Aicha_El_Ouafi/Aicha_El_Ouafi_0001.jpg\n",
            "lfw/Aicha_El_Ouafi/Aicha_El_Ouafi_0002.jpg\n",
            "lfw/Aicha_El_Ouafi/Aicha_El_Ouafi_0003.jpg\n",
            "lfw/Aidan_Quinn/\n",
            "lfw/Aidan_Quinn/Aidan_Quinn_0001.jpg\n",
            "lfw/Aileen_Riggin_Soule/\n",
            "lfw/Aileen_Riggin_Soule/Aileen_Riggin_Soule_0001.jpg\n",
            "lfw/Ain_Seppik/\n",
            "lfw/Ain_Seppik/Ain_Seppik_0001.jpg\n",
            "lfw/Ainsworth_Dyer/\n",
            "lfw/Ainsworth_Dyer/Ainsworth_Dyer_0001.jpg\n",
            "lfw/Aishwarya_Rai/\n",
            "lfw/Aishwarya_Rai/Aishwarya_Rai_0001.jpg\n",
            "lfw/Ai_Sugiyama/\n",
            "lfw/Ai_Sugiyama/Ai_Sugiyama_0001.jpg\n",
            "lfw/Ai_Sugiyama/Ai_Sugiyama_0002.jpg\n",
            "lfw/Ai_Sugiyama/Ai_Sugiyama_0003.jpg\n",
            "lfw/Ai_Sugiyama/Ai_Sugiyama_0004.jpg\n",
            "lfw/Ai_Sugiyama/Ai_Sugiyama_0005.jpg\n",
            "lfw/Aitor_Gonzalez/\n",
            "lfw/Aitor_Gonzalez/Aitor_Gonzalez_0001.jpg\n",
            "lfw/Aitor_Gonzalez/Aitor_Gonzalez_0002.jpg\n",
            "lfw/Aiysha_Smith/\n",
            "lfw/Aiysha_Smith/Aiysha_Smith_0001.jpg\n",
            "lfw/AJ_Cook/\n",
            "lfw/AJ_Cook/AJ_Cook_0001.jpg\n",
            "lfw/Ajit_Agarkar/\n",
            "lfw/Ajit_Agarkar/Ajit_Agarkar_0001.jpg\n",
            "lfw/AJ_Lamas/\n",
            "lfw/AJ_Lamas/AJ_Lamas_0001.jpg\n",
            "lfw/Akbar_Al_Baker/\n",
            "lfw/Akbar_Al_Baker/Akbar_Al_Baker_0001.jpg\n",
            "lfw/Akbar_Hashemi_Rafsanjani/\n",
            "lfw/Akbar_Hashemi_Rafsanjani/Akbar_Hashemi_Rafsanjani_0001.jpg\n",
            "lfw/Akbar_Hashemi_Rafsanjani/Akbar_Hashemi_Rafsanjani_0002.jpg\n",
            "lfw/Akbar_Hashemi_Rafsanjani/Akbar_Hashemi_Rafsanjani_0003.jpg\n",
            "lfw/Akhmed_Zakayev/\n",
            "lfw/Akhmed_Zakayev/Akhmed_Zakayev_0001.jpg\n",
            "lfw/Akhmed_Zakayev/Akhmed_Zakayev_0002.jpg\n",
            "lfw/Akhmed_Zakayev/Akhmed_Zakayev_0003.jpg\n",
            "lfw/Akiko_Morigami/\n",
            "lfw/Akiko_Morigami/Akiko_Morigami_0001.jpg\n",
            "lfw/Akmal_Taher/\n",
            "lfw/Akmal_Taher/Akmal_Taher_0001.jpg\n",
            "lfw/Alain_Cervantes/\n",
            "lfw/Alain_Cervantes/Alain_Cervantes_0001.jpg\n",
            "lfw/Alain_Ducasse/\n",
            "lfw/Alain_Ducasse/Alain_Ducasse_0001.jpg\n",
            "lfw/Alan_Ball/\n",
            "lfw/Alan_Ball/Alan_Ball_0001.jpg\n",
            "lfw/Alan_Ball/Alan_Ball_0002.jpg\n",
            "lfw/Alan_Dershowitz/\n",
            "lfw/Alan_Dershowitz/Alan_Dershowitz_0001.jpg\n",
            "lfw/Alan_Dreher/\n",
            "lfw/Alan_Dreher/Alan_Dreher_0001.jpg\n",
            "lfw/Alan_Greenspan/\n",
            "lfw/Alan_Greenspan/Alan_Greenspan_0001.jpg\n",
            "lfw/Alan_Greenspan/Alan_Greenspan_0002.jpg\n",
            "lfw/Alan_Greenspan/Alan_Greenspan_0003.jpg\n",
            "lfw/Alan_Greenspan/Alan_Greenspan_0004.jpg\n",
            "lfw/Alan_Greenspan/Alan_Greenspan_0005.jpg\n",
            "lfw/Alan_Greer/\n",
            "lfw/Alan_Greer/Alan_Greer_0001.jpg\n",
            "lfw/Alanis_Morissette/\n",
            "lfw/Alanis_Morissette/Alanis_Morissette_0001.jpg\n",
            "lfw/Alan_Jackson/\n",
            "lfw/Alan_Jackson/Alan_Jackson_0001.jpg\n",
            "lfw/Alan_Mulally/\n",
            "lfw/Alan_Mulally/Alan_Mulally_0001.jpg\n",
            "lfw/Alan_Mulally/Alan_Mulally_0002.jpg\n",
            "lfw/Alanna_Ubach/\n",
            "lfw/Alanna_Ubach/Alanna_Ubach_0001.jpg\n",
            "lfw/Alan_Stonecipher/\n",
            "lfw/Alan_Stonecipher/Alan_Stonecipher_0001.jpg\n",
            "lfw/Alan_Tang_Kwong-wing/\n",
            "lfw/Alan_Tang_Kwong-wing/Alan_Tang_Kwong-wing_0001.jpg\n",
            "lfw/Alan_Trammell/\n",
            "lfw/Alan_Trammell/Alan_Trammell_0001.jpg\n",
            "lfw/Alan_Zemaitis/\n",
            "lfw/Alan_Zemaitis/Alan_Zemaitis_0001.jpg\n",
            "lfw/Alastair_Campbell/\n",
            "lfw/Alastair_Campbell/Alastair_Campbell_0001.jpg\n",
            "lfw/Alastair_Campbell/Alastair_Campbell_0002.jpg\n",
            "lfw/Alastair_Campbell/Alastair_Campbell_0003.jpg\n",
            "lfw/Alastair_Campbell/Alastair_Campbell_0004.jpg\n",
            "lfw/Alastair_Campbell/Alastair_Campbell_0005.jpg\n",
            "lfw/Alastair_Johnston/\n",
            "lfw/Alastair_Johnston/Alastair_Johnston_0001.jpg\n",
            "lfw/Albaro_Recoba/\n",
            "lfw/Albaro_Recoba/Albaro_Recoba_0001.jpg\n",
            "lfw/Alberta_Lee/\n",
            "lfw/Alberta_Lee/Alberta_Lee_0001.jpg\n",
            "lfw/Albert_Brooks/\n",
            "lfw/Albert_Brooks/Albert_Brooks_0001.jpg\n",
            "lfw/Albert_Costa/\n",
            "lfw/Albert_Costa/Albert_Costa_0001.jpg\n",
            "lfw/Albert_Costa/Albert_Costa_0002.jpg\n",
            "lfw/Albert_Costa/Albert_Costa_0003.jpg\n",
            "lfw/Albert_Costa/Albert_Costa_0004.jpg\n",
            "lfw/Albert_Costa/Albert_Costa_0005.jpg\n",
            "lfw/Albert_Costa/Albert_Costa_0006.jpg\n",
            "lfw/Albert_Montanes/\n",
            "lfw/Albert_Montanes/Albert_Montanes_0001.jpg\n",
            "lfw/Alberto_Acosta/\n",
            "lfw/Alberto_Acosta/Alberto_Acosta_0001.jpg\n",
            "lfw/Alberto_Fujimori/\n",
            "lfw/Alberto_Fujimori/Alberto_Fujimori_0001.jpg\n",
            "lfw/Alberto_Fujimori/Alberto_Fujimori_0002.jpg\n",
            "lfw/Alberto_Gonzales/\n",
            "lfw/Alberto_Gonzales/Alberto_Gonzales_0001.jpg\n",
            "lfw/Alberto_Ruiz_Gallardon/\n",
            "lfw/Alberto_Ruiz_Gallardon/Alberto_Ruiz_Gallardon_0001.jpg\n",
            "lfw/Alberto_Ruiz_Gallardon/Alberto_Ruiz_Gallardon_0002.jpg\n",
            "lfw/Alberto_Sordi/\n",
            "lfw/Alberto_Sordi/Alberto_Sordi_0001.jpg\n",
            "lfw/Albert_Pujols/\n",
            "lfw/Albert_Pujols/Albert_Pujols_0001.jpg\n",
            "lfw/Albrecht_Mentz/\n",
            "lfw/Albrecht_Mentz/Albrecht_Mentz_0001.jpg\n",
            "lfw/Albrecht_Mentz/Albrecht_Mentz_0002.jpg\n",
            "lfw/Al_Cardenas/\n",
            "lfw/Al_Cardenas/Al_Cardenas_0001.jpg\n",
            "lfw/Al_Davis/\n",
            "lfw/Al_Davis/Al_Davis_0001.jpg\n",
            "lfw/Al_Davis/Al_Davis_0002.jpg\n",
            "lfw/Aldo_Paredes/\n",
            "lfw/Aldo_Paredes/Aldo_Paredes_0001.jpg\n",
            "lfw/Aldo_Paredes/Aldo_Paredes_0002.jpg\n",
            "lfw/Alec_Baldwin/\n",
            "lfw/Alec_Baldwin/Alec_Baldwin_0001.jpg\n",
            "lfw/Alec_Baldwin/Alec_Baldwin_0002.jpg\n",
            "lfw/Alec_Baldwin/Alec_Baldwin_0003.jpg\n",
            "lfw/Alec_Baldwin/Alec_Baldwin_0004.jpg\n",
            "lfw/Alecos_Markides/\n",
            "lfw/Alecos_Markides/Alecos_Markides_0001.jpg\n",
            "lfw/Alejandro_Atchugarry/\n",
            "lfw/Alejandro_Atchugarry/Alejandro_Atchugarry_0001.jpg\n",
            "lfw/Alejandro_Atchugarry/Alejandro_Atchugarry_0002.jpg\n",
            "lfw/Alejandro_Avila/\n",
            "lfw/Alejandro_Avila/Alejandro_Avila_0001.jpg\n",
            "lfw/Alejandro_Avila/Alejandro_Avila_0002.jpg\n",
            "lfw/Alejandro_Avila/Alejandro_Avila_0003.jpg\n",
            "lfw/Alejandro_Fernandez/\n",
            "lfw/Alejandro_Fernandez/Alejandro_Fernandez_0001.jpg\n",
            "lfw/Alejandro_Gonzalez_Inarritu/\n",
            "lfw/Alejandro_Gonzalez_Inarritu/Alejandro_Gonzalez_Inarritu_0001.jpg\n",
            "lfw/Alejandro_Lembo/\n",
            "lfw/Alejandro_Lembo/Alejandro_Lembo_0001.jpg\n",
            "lfw/Alejandro_Lerner/\n",
            "lfw/Alejandro_Lerner/Alejandro_Lerner_0001.jpg\n",
            "lfw/Alejandro_Lopez/\n",
            "lfw/Alejandro_Lopez/Alejandro_Lopez_0001.jpg\n",
            "lfw/Alejandro_Toledo/\n",
            "lfw/Alejandro_Toledo/Alejandro_Toledo_0001.jpg\n",
            "lfw/Alejandro_Toledo/Alejandro_Toledo_0002.jpg\n",
            "lfw/Alejandro_Toledo/Alejandro_Toledo_0003.jpg\n",
            "lfw/Alejandro_Toledo/Alejandro_Toledo_0004.jpg\n",
            "lfw/Alejandro_Toledo/Alejandro_Toledo_0005.jpg\n",
            "lfw/Alejandro_Toledo/Alejandro_Toledo_0006.jpg\n",
            "lfw/Alejandro_Toledo/Alejandro_Toledo_0007.jpg\n",
            "lfw/Alejandro_Toledo/Alejandro_Toledo_0008.jpg\n",
            "lfw/Alejandro_Toledo/Alejandro_Toledo_0009.jpg\n",
            "lfw/Alejandro_Toledo/Alejandro_Toledo_0010.jpg\n",
            "lfw/Alejandro_Toledo/Alejandro_Toledo_0011.jpg\n",
            "lfw/Alejandro_Toledo/Alejandro_Toledo_0012.jpg\n",
            "lfw/Alejandro_Toledo/Alejandro_Toledo_0013.jpg\n",
            "lfw/Alejandro_Toledo/Alejandro_Toledo_0014.jpg\n",
            "lfw/Alejandro_Toledo/Alejandro_Toledo_0015.jpg\n",
            "lfw/Alejandro_Toledo/Alejandro_Toledo_0016.jpg\n",
            "lfw/Alejandro_Toledo/Alejandro_Toledo_0017.jpg\n",
            "lfw/Alejandro_Toledo/Alejandro_Toledo_0018.jpg\n",
            "lfw/Alejandro_Toledo/Alejandro_Toledo_0019.jpg\n",
            "lfw/Alejandro_Toledo/Alejandro_Toledo_0020.jpg\n",
            "lfw/Alejandro_Toledo/Alejandro_Toledo_0021.jpg\n",
            "lfw/Alejandro_Toledo/Alejandro_Toledo_0022.jpg\n",
            "lfw/Alejandro_Toledo/Alejandro_Toledo_0023.jpg\n",
            "lfw/Alejandro_Toledo/Alejandro_Toledo_0024.jpg\n",
            "lfw/Alejandro_Toledo/Alejandro_Toledo_0025.jpg\n",
            "lfw/Alejandro_Toledo/Alejandro_Toledo_0026.jpg\n",
            "lfw/Alejandro_Toledo/Alejandro_Toledo_0027.jpg\n",
            "lfw/Alejandro_Toledo/Alejandro_Toledo_0028.jpg\n",
            "lfw/Alejandro_Toledo/Alejandro_Toledo_0029.jpg\n",
            "lfw/Alejandro_Toledo/Alejandro_Toledo_0030.jpg\n",
            "lfw/Alejandro_Toledo/Alejandro_Toledo_0031.jpg\n",
            "lfw/Alejandro_Toledo/Alejandro_Toledo_0032.jpg\n",
            "lfw/Alejandro_Toledo/Alejandro_Toledo_0033.jpg\n",
            "lfw/Alejandro_Toledo/Alejandro_Toledo_0034.jpg\n",
            "lfw/Alejandro_Toledo/Alejandro_Toledo_0035.jpg\n",
            "lfw/Alejandro_Toledo/Alejandro_Toledo_0036.jpg\n",
            "lfw/Alejandro_Toledo/Alejandro_Toledo_0037.jpg\n",
            "lfw/Alejandro_Toledo/Alejandro_Toledo_0038.jpg\n",
            "lfw/Alejandro_Toledo/Alejandro_Toledo_0039.jpg\n",
            "lfw/Aleksander_Kwasniewski/\n",
            "lfw/Aleksander_Kwasniewski/Aleksander_Kwasniewski_0001.jpg\n",
            "lfw/Aleksander_Kwasniewski/Aleksander_Kwasniewski_0002.jpg\n",
            "lfw/Aleksander_Kwasniewski/Aleksander_Kwasniewski_0003.jpg\n",
            "lfw/Aleksander_Kwasniewski/Aleksander_Kwasniewski_0004.jpg\n",
            "lfw/Aleksander_Voloshin/\n",
            "lfw/Aleksander_Voloshin/Aleksander_Voloshin_0001.jpg\n",
            "lfw/Alek_Wek/\n",
            "lfw/Alek_Wek/Alek_Wek_0001.jpg\n",
            "lfw/Alessandra_Cerna/\n",
            "lfw/Alessandra_Cerna/Alessandra_Cerna_0001.jpg\n",
            "lfw/Alessandro_Nesta/\n",
            "lfw/Alessandro_Nesta/Alessandro_Nesta_0001.jpg\n",
            "lfw/Alexa_Loren/\n",
            "lfw/Alexa_Loren/Alexa_Loren_0001.jpg\n",
            "lfw/Alexander_Downer/\n",
            "lfw/Alexander_Downer/Alexander_Downer_0001.jpg\n",
            "lfw/Alexander_Downer/Alexander_Downer_0002.jpg\n",
            "lfw/Alexander_Downer/Alexander_Downer_0003.jpg\n",
            "lfw/Alexander_Downer/Alexander_Downer_0004.jpg\n",
            "lfw/Alexander_Losyukov/\n",
            "lfw/Alexander_Losyukov/Alexander_Losyukov_0001.jpg\n",
            "lfw/Alexander_Losyukov/Alexander_Losyukov_0002.jpg\n",
            "lfw/Alexander_Losyukov/Alexander_Losyukov_0003.jpg\n",
            "lfw/Alexander_Losyukov/Alexander_Losyukov_0004.jpg\n",
            "lfw/Alexander_Lukashenko/\n",
            "lfw/Alexander_Lukashenko/Alexander_Lukashenko_0001.jpg\n",
            "lfw/Alexander_Payne/\n",
            "lfw/Alexander_Payne/Alexander_Payne_0001.jpg\n",
            "lfw/Alexander_Rumyantsev/\n",
            "lfw/Alexander_Rumyantsev/Alexander_Rumyantsev_0001.jpg\n",
            "lfw/Alexander_Rumyantsev/Alexander_Rumyantsev_0002.jpg\n",
            "lfw/Alexandra_Jackson/\n",
            "lfw/Alexandra_Jackson/Alexandra_Jackson_0001.jpg\n",
            "lfw/Alexandra_Pelosi/\n",
            "lfw/Alexandra_Pelosi/Alexandra_Pelosi_0001.jpg\n",
            "lfw/Alexandra_Rozovskaya/\n",
            "lfw/Alexandra_Rozovskaya/Alexandra_Rozovskaya_0001.jpg\n",
            "lfw/Alexandra_Spann/\n",
            "lfw/Alexandra_Spann/Alexandra_Spann_0001.jpg\n",
            "lfw/Alexandra_Stevenson/\n",
            "lfw/Alexandra_Stevenson/Alexandra_Stevenson_0001.jpg\n",
            "lfw/Alexandra_Stevenson/Alexandra_Stevenson_0002.jpg\n",
            "lfw/Alexandra_Stevenson/Alexandra_Stevenson_0003.jpg\n",
            "lfw/Alexandra_Vodjanikova/\n",
            "lfw/Alexandra_Vodjanikova/Alexandra_Vodjanikova_0001.jpg\n",
            "lfw/Alexandra_Vodjanikova/Alexandra_Vodjanikova_0002.jpg\n",
            "lfw/Alexandre_Daigle/\n",
            "lfw/Alexandre_Daigle/Alexandre_Daigle_0001.jpg\n",
            "lfw/Alexandre_Despatie/\n",
            "lfw/Alexandre_Despatie/Alexandre_Despatie_0001.jpg\n",
            "lfw/Alexandre_Herchcovitch/\n",
            "lfw/Alexandre_Herchcovitch/Alexandre_Herchcovitch_0001.jpg\n",
            "lfw/Alexandre_Vinokourov/\n",
            "lfw/Alexandre_Vinokourov/Alexandre_Vinokourov_0001.jpg\n",
            "lfw/Alexa_Vega/\n",
            "lfw/Alexa_Vega/Alexa_Vega_0001.jpg\n",
            "lfw/Alex_Barros/\n",
            "lfw/Alex_Barros/Alex_Barros_0001.jpg\n",
            "lfw/Alex_Barros/Alex_Barros_0002.jpg\n",
            "lfw/Alex_Cabrera/\n",
            "lfw/Alex_Cabrera/Alex_Cabrera_0001.jpg\n",
            "lfw/Alex_Cejka/\n",
            "lfw/Alex_Cejka/Alex_Cejka_0001.jpg\n",
            "lfw/Alex_Corretja/\n",
            "lfw/Alex_Corretja/Alex_Corretja_0001.jpg\n",
            "lfw/Alex_Ferguson/\n",
            "lfw/Alex_Ferguson/Alex_Ferguson_0001.jpg\n",
            "lfw/Alex_Gonzalez/\n",
            "lfw/Alex_Gonzalez/Alex_Gonzalez_0001.jpg\n",
            "lfw/Alex_Holmes/\n",
            "lfw/Alex_Holmes/Alex_Holmes_0001.jpg\n",
            "lfw/Alexis_Bledel/\n",
            "lfw/Alexis_Bledel/Alexis_Bledel_0001.jpg\n",
            "lfw/Alexis_Dennisoff/\n",
            "lfw/Alexis_Dennisoff/Alexis_Dennisoff_0001.jpg\n",
            "lfw/Alex_King/\n",
            "lfw/Alex_King/Alex_King_0001.jpg\n",
            "lfw/Alex_Penelas/\n",
            "lfw/Alex_Penelas/Alex_Penelas_0001.jpg\n",
            "lfw/Alex_Penelas/Alex_Penelas_0002.jpg\n",
            "lfw/Alex_Popov/\n",
            "lfw/Alex_Popov/Alex_Popov_0001.jpg\n",
            "lfw/Alex_Sink/\n",
            "lfw/Alex_Sink/Alex_Sink_0001.jpg\n",
            "lfw/Alex_Sink/Alex_Sink_0002.jpg\n",
            "lfw/Alex_Sink/Alex_Sink_0003.jpg\n",
            "lfw/Alex_Wallau/\n",
            "lfw/Alex_Wallau/Alex_Wallau_0001.jpg\n",
            "lfw/Alex_Zanardi/\n",
            "lfw/Alex_Zanardi/Alex_Zanardi_0001.jpg\n",
            "lfw/Alfonso_Cuaron/\n",
            "lfw/Alfonso_Cuaron/Alfonso_Cuaron_0001.jpg\n",
            "lfw/Alfonso_Portillo/\n",
            "lfw/Alfonso_Portillo/Alfonso_Portillo_0001.jpg\n",
            "lfw/Alfonso_Soriano/\n",
            "lfw/Alfonso_Soriano/Alfonso_Soriano_0001.jpg\n",
            "lfw/Alfred_Ford/\n",
            "lfw/Alfred_Ford/Alfred_Ford_0001.jpg\n",
            "lfw/Alfredo_di_Stefano/\n",
            "lfw/Alfredo_di_Stefano/Alfredo_di_Stefano_0001.jpg\n",
            "lfw/Alfredo_Moreno/\n",
            "lfw/Alfredo_Moreno/Alfredo_Moreno_0001.jpg\n",
            "lfw/Alfredo_Pena/\n",
            "lfw/Alfredo_Pena/Alfredo_Pena_0001.jpg\n",
            "lfw/Alfred_Sant/\n",
            "lfw/Alfred_Sant/Alfred_Sant_0001.jpg\n",
            "lfw/Al_Gore/\n",
            "lfw/Al_Gore/Al_Gore_0001.jpg\n",
            "lfw/Al_Gore/Al_Gore_0002.jpg\n",
            "lfw/Al_Gore/Al_Gore_0003.jpg\n",
            "lfw/Al_Gore/Al_Gore_0004.jpg\n",
            "lfw/Al_Gore/Al_Gore_0005.jpg\n",
            "lfw/Al_Gore/Al_Gore_0006.jpg\n",
            "lfw/Al_Gore/Al_Gore_0007.jpg\n",
            "lfw/Al_Gore/Al_Gore_0008.jpg\n",
            "lfw/Ali_Abbas/\n",
            "lfw/Ali_Abbas/Ali_Abbas_0001.jpg\n",
            "lfw/Ali_Abbas/Ali_Abbas_0002.jpg\n",
            "lfw/Ali_Abdullah_Saleh/\n",
            "lfw/Ali_Abdullah_Saleh/Ali_Abdullah_Saleh_0001.jpg\n",
            "lfw/Ali_Adbul_Karim_Madani/\n",
            "lfw/Ali_Adbul_Karim_Madani/Ali_Adbul_Karim_Madani_0001.jpg\n",
            "lfw/Ali_Ahmeti/\n",
            "lfw/Ali_Ahmeti/Ali_Ahmeti_0001.jpg\n",
            "lfw/Ali_Bin_Hussein/\n",
            "lfw/Ali_Bin_Hussein/Ali_Bin_Hussein_0001.jpg\n",
            "lfw/Alice_Fisher/\n",
            "lfw/Alice_Fisher/Alice_Fisher_0001.jpg\n",
            "lfw/Alice_Fisher/Alice_Fisher_0002.jpg\n",
            "lfw/Alicia_Hollowell/\n",
            "lfw/Alicia_Hollowell/Alicia_Hollowell_0001.jpg\n",
            "lfw/Alicia_Keys/\n",
            "lfw/Alicia_Keys/Alicia_Keys_0001.jpg\n",
            "lfw/Alicia_Molik/\n",
            "lfw/Alicia_Molik/Alicia_Molik_0001.jpg\n",
            "lfw/Alicia_Silverstone/\n",
            "lfw/Alicia_Silverstone/Alicia_Silverstone_0001.jpg\n",
            "lfw/Alicia_Silverstone/Alicia_Silverstone_0002.jpg\n",
            "lfw/Alicia_Witt/\n",
            "lfw/Alicia_Witt/Alicia_Witt_0001.jpg\n",
            "lfw/Ali_Fallahian/\n",
            "lfw/Ali_Fallahian/Ali_Fallahian_0001.jpg\n",
            "lfw/Ali_Hammoud/\n",
            "lfw/Ali_Hammoud/Ali_Hammoud_0001.jpg\n",
            "lfw/Ali_Khamenei/\n",
            "lfw/Ali_Khamenei/Ali_Khamenei_0001.jpg\n",
            "lfw/Ali_Khamenei/Ali_Khamenei_0002.jpg\n",
            "lfw/Ali_Khamenei/Ali_Khamenei_0003.jpg\n",
            "lfw/Ali_Mohammed_Maher/\n",
            "lfw/Ali_Mohammed_Maher/Ali_Mohammed_Maher_0001.jpg\n",
            "lfw/Alimzhan_Tokhtakhounov/\n",
            "lfw/Alimzhan_Tokhtakhounov/Alimzhan_Tokhtakhounov_0001.jpg\n",
            "lfw/Alimzhan_Tokhtakhounov/Alimzhan_Tokhtakhounov_0002.jpg\n",
            "lfw/Ali_Naimi/\n",
            "lfw/Ali_Naimi/Ali_Naimi_0001.jpg\n",
            "lfw/Ali_Naimi/Ali_Naimi_0002.jpg\n",
            "lfw/Ali_Naimi/Ali_Naimi_0003.jpg\n",
            "lfw/Ali_Naimi/Ali_Naimi_0004.jpg\n",
            "lfw/Ali_Naimi/Ali_Naimi_0005.jpg\n",
            "lfw/Ali_Naimi/Ali_Naimi_0006.jpg\n",
            "lfw/Ali_Naimi/Ali_Naimi_0007.jpg\n",
            "lfw/Ali_Naimi/Ali_Naimi_0008.jpg\n",
            "lfw/Alina_Kabaeva/\n",
            "lfw/Alina_Kabaeva/Alina_Kabaeva_0001.jpg\n",
            "lfw/Aline_Chretien/\n",
            "lfw/Aline_Chretien/Aline_Chretien_0001.jpg\n",
            "lfw/Alisha_Richman/\n",
            "lfw/Alisha_Richman/Alisha_Richman_0001.jpg\n",
            "lfw/Alison_Krauss/\n",
            "lfw/Alison_Krauss/Alison_Krauss_0001.jpg\n",
            "lfw/Alison_Lohman/\n",
            "lfw/Alison_Lohman/Alison_Lohman_0001.jpg\n",
            "lfw/Alison_Lohman/Alison_Lohman_0002.jpg\n",
            "lfw/Alistair_MacDonald/\n",
            "lfw/Alistair_MacDonald/Alistair_MacDonald_0001.jpg\n",
            "lfw/Allan_Houston/\n",
            "lfw/Allan_Houston/Allan_Houston_0001.jpg\n",
            "lfw/Allan_Kemakeza/\n",
            "lfw/Allan_Kemakeza/Allan_Kemakeza_0001.jpg\n",
            "lfw/Allan_Wagner/\n",
            "lfw/Allan_Wagner/Allan_Wagner_0001.jpg\n",
            "lfw/Al_Leiter/\n",
            "lfw/Al_Leiter/Al_Leiter_0001.jpg\n",
            "lfw/Allen_Iverson/\n",
            "lfw/Allen_Iverson/Allen_Iverson_0001.jpg\n",
            "lfw/Allen_Iverson/Allen_Iverson_0002.jpg\n",
            "lfw/Allen_Rock/\n",
            "lfw/Allen_Rock/Allen_Rock_0001.jpg\n",
            "lfw/Allison_Janney/\n",
            "lfw/Allison_Janney/Allison_Janney_0001.jpg\n",
            "lfw/Allison_Janney/Allison_Janney_0002.jpg\n",
            "lfw/Allison_Searing/\n",
            "lfw/Allison_Searing/Allison_Searing_0001.jpg\n",
            "lfw/Ally_Sheedy/\n",
            "lfw/Ally_Sheedy/Ally_Sheedy_0001.jpg\n",
            "lfw/Allyson_Felix/\n",
            "lfw/Allyson_Felix/Allyson_Felix_0001.jpg\n",
            "lfw/Allyson_Felix/Allyson_Felix_0002.jpg\n",
            "lfw/Allyson_Felix/Allyson_Felix_0003.jpg\n",
            "lfw/Allyson_Felix/Allyson_Felix_0004.jpg\n",
            "lfw/Allyson_Felix/Allyson_Felix_0005.jpg\n",
            "lfw/Alma_Powell/\n",
            "lfw/Alma_Powell/Alma_Powell_0001.jpg\n",
            "lfw/Almeida_Baptista/\n",
            "lfw/Almeida_Baptista/Almeida_Baptista_0001.jpg\n",
            "lfw/Alonzo_Mourning/\n",
            "lfw/Alonzo_Mourning/Alonzo_Mourning_0001.jpg\n",
            "lfw/Al_Pacino/\n",
            "lfw/Al_Pacino/Al_Pacino_0001.jpg\n",
            "lfw/Al_Pacino/Al_Pacino_0002.jpg\n",
            "lfw/Al_Pacino/Al_Pacino_0003.jpg\n",
            "lfw/Al_Sharpton/\n",
            "lfw/Al_Sharpton/Al_Sharpton_0001.jpg\n",
            "lfw/Al_Sharpton/Al_Sharpton_0002.jpg\n",
            "lfw/Al_Sharpton/Al_Sharpton_0003.jpg\n",
            "lfw/Al_Sharpton/Al_Sharpton_0004.jpg\n",
            "lfw/Al_Sharpton/Al_Sharpton_0005.jpg\n",
            "lfw/Al_Sharpton/Al_Sharpton_0006.jpg\n",
            "lfw/Al_Sharpton/Al_Sharpton_0007.jpg\n",
            "lfw/Alvaro_Noboa/\n",
            "lfw/Alvaro_Noboa/Alvaro_Noboa_0001.jpg\n",
            "lfw/Alvaro_Noboa/Alvaro_Noboa_0002.jpg\n",
            "lfw/Alvaro_Noboa/Alvaro_Noboa_0003.jpg\n",
            "lfw/Alvaro_Silva_Calderon/\n",
            "lfw/Alvaro_Silva_Calderon/Alvaro_Silva_Calderon_0001.jpg\n",
            "lfw/Alvaro_Silva_Calderon/Alvaro_Silva_Calderon_0002.jpg\n",
            "lfw/Alvaro_Silva_Calderon/Alvaro_Silva_Calderon_0003.jpg\n",
            "lfw/Alvaro_Silva_Calderon/Alvaro_Silva_Calderon_0004.jpg\n",
            "lfw/Alvaro_Uribe/\n",
            "lfw/Alvaro_Uribe/Alvaro_Uribe_0001.jpg\n",
            "lfw/Alvaro_Uribe/Alvaro_Uribe_0002.jpg\n",
            "lfw/Alvaro_Uribe/Alvaro_Uribe_0003.jpg\n",
            "lfw/Alvaro_Uribe/Alvaro_Uribe_0004.jpg\n",
            "lfw/Alvaro_Uribe/Alvaro_Uribe_0005.jpg\n",
            "lfw/Alvaro_Uribe/Alvaro_Uribe_0006.jpg\n",
            "lfw/Alvaro_Uribe/Alvaro_Uribe_0007.jpg\n",
            "lfw/Alvaro_Uribe/Alvaro_Uribe_0008.jpg\n",
            "lfw/Alvaro_Uribe/Alvaro_Uribe_0009.jpg\n",
            "lfw/Alvaro_Uribe/Alvaro_Uribe_0010.jpg\n",
            "lfw/Alvaro_Uribe/Alvaro_Uribe_0011.jpg\n",
            "lfw/Alvaro_Uribe/Alvaro_Uribe_0012.jpg\n",
            "lfw/Alvaro_Uribe/Alvaro_Uribe_0013.jpg\n",
            "lfw/Alvaro_Uribe/Alvaro_Uribe_0014.jpg\n",
            "lfw/Alvaro_Uribe/Alvaro_Uribe_0015.jpg\n",
            "lfw/Alvaro_Uribe/Alvaro_Uribe_0016.jpg\n",
            "lfw/Alvaro_Uribe/Alvaro_Uribe_0017.jpg\n",
            "lfw/Alvaro_Uribe/Alvaro_Uribe_0018.jpg\n",
            "lfw/Alvaro_Uribe/Alvaro_Uribe_0019.jpg\n",
            "lfw/Alvaro_Uribe/Alvaro_Uribe_0020.jpg\n",
            "lfw/Alvaro_Uribe/Alvaro_Uribe_0021.jpg\n",
            "lfw/Alvaro_Uribe/Alvaro_Uribe_0022.jpg\n",
            "lfw/Alvaro_Uribe/Alvaro_Uribe_0023.jpg\n",
            "lfw/Alvaro_Uribe/Alvaro_Uribe_0024.jpg\n",
            "lfw/Alvaro_Uribe/Alvaro_Uribe_0025.jpg\n",
            "lfw/Alvaro_Uribe/Alvaro_Uribe_0026.jpg\n",
            "lfw/Alvaro_Uribe/Alvaro_Uribe_0027.jpg\n",
            "lfw/Alvaro_Uribe/Alvaro_Uribe_0028.jpg\n",
            "lfw/Alvaro_Uribe/Alvaro_Uribe_0029.jpg\n",
            "lfw/Alvaro_Uribe/Alvaro_Uribe_0030.jpg\n",
            "lfw/Alvaro_Uribe/Alvaro_Uribe_0031.jpg\n",
            "lfw/Alvaro_Uribe/Alvaro_Uribe_0032.jpg\n",
            "lfw/Alvaro_Uribe/Alvaro_Uribe_0033.jpg\n",
            "lfw/Alvaro_Uribe/Alvaro_Uribe_0034.jpg\n",
            "lfw/Alvaro_Uribe/Alvaro_Uribe_0035.jpg\n",
            "lfw/Alyse_Beaupre/\n",
            "lfw/Alyse_Beaupre/Alyse_Beaupre_0001.jpg\n",
            "lfw/Alyson_Hannigan/\n",
            "lfw/Alyson_Hannigan/Alyson_Hannigan_0001.jpg\n",
            "lfw/Aly_Wagner/\n",
            "lfw/Aly_Wagner/Aly_Wagner_0001.jpg\n",
            "lfw/Amanda_Beard/\n",
            "lfw/Amanda_Beard/Amanda_Beard_0001.jpg\n",
            "lfw/Amanda_Beard/Amanda_Beard_0002.jpg\n",
            "lfw/Amanda_Bynes/\n",
            "lfw/Amanda_Bynes/Amanda_Bynes_0001.jpg\n",
            "lfw/Amanda_Bynes/Amanda_Bynes_0002.jpg\n",
            "lfw/Amanda_Bynes/Amanda_Bynes_0003.jpg\n",
            "lfw/Amanda_Bynes/Amanda_Bynes_0004.jpg\n",
            "lfw/Amanda_Coetzer/\n",
            "lfw/Amanda_Coetzer/Amanda_Coetzer_0001.jpg\n",
            "lfw/Amanda_Coetzer/Amanda_Coetzer_0002.jpg\n",
            "lfw/Amanda_Marsh/\n",
            "lfw/Amanda_Marsh/Amanda_Marsh_0001.jpg\n",
            "lfw/Amanda_Plumer/\n",
            "lfw/Amanda_Plumer/Amanda_Plumer_0001.jpg\n",
            "lfw/Amber_Frey/\n",
            "lfw/Amber_Frey/Amber_Frey_0001.jpg\n",
            "lfw/Amber_Tamblyn/\n",
            "lfw/Amber_Tamblyn/Amber_Tamblyn_0001.jpg\n",
            "lfw/Amber_Tamblyn/Amber_Tamblyn_0002.jpg\n",
            "lfw/Ambrose_Lee/\n",
            "lfw/Ambrose_Lee/Ambrose_Lee_0001.jpg\n",
            "lfw/Amelia_Vega/\n",
            "lfw/Amelia_Vega/Amelia_Vega_0001.jpg\n",
            "lfw/Amelia_Vega/Amelia_Vega_0002.jpg\n",
            "lfw/Amelia_Vega/Amelia_Vega_0003.jpg\n",
            "lfw/Amelia_Vega/Amelia_Vega_0004.jpg\n",
            "lfw/Amelia_Vega/Amelia_Vega_0005.jpg\n",
            "lfw/Amelia_Vega/Amelia_Vega_0006.jpg\n",
            "lfw/Amelia_Vega/Amelia_Vega_0007.jpg\n",
            "lfw/Amelie_Mauresmo/\n",
            "lfw/Amelie_Mauresmo/Amelie_Mauresmo_0001.jpg\n",
            "lfw/Amelie_Mauresmo/Amelie_Mauresmo_0002.jpg\n",
            "lfw/Amelie_Mauresmo/Amelie_Mauresmo_0003.jpg\n",
            "lfw/Amelie_Mauresmo/Amelie_Mauresmo_0004.jpg\n",
            "lfw/Amelie_Mauresmo/Amelie_Mauresmo_0005.jpg\n",
            "lfw/Amelie_Mauresmo/Amelie_Mauresmo_0006.jpg\n",
            "lfw/Amelie_Mauresmo/Amelie_Mauresmo_0007.jpg\n",
            "lfw/Amelie_Mauresmo/Amelie_Mauresmo_0008.jpg\n",
            "lfw/Amelie_Mauresmo/Amelie_Mauresmo_0009.jpg\n",
            "lfw/Amelie_Mauresmo/Amelie_Mauresmo_0010.jpg\n",
            "lfw/Amelie_Mauresmo/Amelie_Mauresmo_0011.jpg\n",
            "lfw/Amelie_Mauresmo/Amelie_Mauresmo_0012.jpg\n",
            "lfw/Amelie_Mauresmo/Amelie_Mauresmo_0013.jpg\n",
            "lfw/Amelie_Mauresmo/Amelie_Mauresmo_0014.jpg\n",
            "lfw/Amelie_Mauresmo/Amelie_Mauresmo_0015.jpg\n",
            "lfw/Amelie_Mauresmo/Amelie_Mauresmo_0016.jpg\n",
            "lfw/Amelie_Mauresmo/Amelie_Mauresmo_0017.jpg\n",
            "lfw/Amelie_Mauresmo/Amelie_Mauresmo_0018.jpg\n",
            "lfw/Amelie_Mauresmo/Amelie_Mauresmo_0019.jpg\n",
            "lfw/Amelie_Mauresmo/Amelie_Mauresmo_0020.jpg\n",
            "lfw/Amelie_Mauresmo/Amelie_Mauresmo_0021.jpg\n",
            "lfw/Amer_al-Saadi/\n",
            "lfw/Amer_al-Saadi/Amer_al-Saadi_0001.jpg\n",
            "lfw/Amer_al-Saadi/Amer_al-Saadi_0002.jpg\n",
            "lfw/Amer_al-Saadi/Amer_al-Saadi_0003.jpg\n",
            "lfw/Amer_al-Saadi/Amer_al-Saadi_0004.jpg\n",
            "lfw/Amporn_Falise/\n",
            "lfw/Amporn_Falise/Amporn_Falise_0001.jpg\n",
            "lfw/Amram_Mitzna/\n",
            "lfw/Amram_Mitzna/Amram_Mitzna_0001.jpg\n",
            "lfw/Amram_Mitzna/Amram_Mitzna_0002.jpg\n",
            "lfw/Amr_Moussa/\n",
            "lfw/Amr_Moussa/Amr_Moussa_0001.jpg\n",
            "lfw/Amy_Brenneman/\n",
            "lfw/Amy_Brenneman/Amy_Brenneman_0001.jpg\n",
            "lfw/Amy_Cotton/\n",
            "lfw/Amy_Cotton/Amy_Cotton_0001.jpg\n",
            "lfw/Amy_Gale/\n",
            "lfw/Amy_Gale/Amy_Gale_0001.jpg\n",
            "lfw/Amy_Pascal/\n",
            "lfw/Amy_Pascal/Amy_Pascal_0001.jpg\n",
            "lfw/Amy_Redford/\n",
            "lfw/Amy_Redford/Amy_Redford_0001.jpg\n",
            "lfw/Amy_Smart/\n",
            "lfw/Amy_Smart/Amy_Smart_0001.jpg\n",
            "lfw/Amy_Yasbeck/\n",
            "lfw/Amy_Yasbeck/Amy_Yasbeck_0001.jpg\n",
            "lfw/Ana_Claudia_Talancon/\n",
            "lfw/Ana_Claudia_Talancon/Ana_Claudia_Talancon_0001.jpg\n",
            "lfw/Ana_Guevara/\n",
            "lfw/Ana_Guevara/Ana_Guevara_0001.jpg\n",
            "lfw/Ana_Guevara/Ana_Guevara_0002.jpg\n",
            "lfw/Ana_Guevara/Ana_Guevara_0003.jpg\n",
            "lfw/Ana_Guevara/Ana_Guevara_0004.jpg\n",
            "lfw/Ana_Guevara/Ana_Guevara_0005.jpg\n",
            "lfw/Ana_Guevara/Ana_Guevara_0006.jpg\n",
            "lfw/Ana_Guevara/Ana_Guevara_0007.jpg\n",
            "lfw/Ana_Isabel_Sanchez/\n",
            "lfw/Ana_Isabel_Sanchez/Ana_Isabel_Sanchez_0001.jpg\n",
            "lfw/Ana_Palacio/\n",
            "lfw/Ana_Palacio/Ana_Palacio_0001.jpg\n",
            "lfw/Ana_Palacio/Ana_Palacio_0002.jpg\n",
            "lfw/Ana_Palacio/Ana_Palacio_0003.jpg\n",
            "lfw/Ana_Palacio/Ana_Palacio_0004.jpg\n",
            "lfw/Ana_Palacio/Ana_Palacio_0005.jpg\n",
            "lfw/Ana_Palacio/Ana_Palacio_0006.jpg\n",
            "lfw/Ana_Palacio/Ana_Palacio_0007.jpg\n",
            "lfw/Ana_Palacio/Ana_Palacio_0008.jpg\n",
            "lfw/Ana_Paula_Gerard/\n",
            "lfw/Ana_Paula_Gerard/Ana_Paula_Gerard_0001.jpg\n",
            "lfw/Ana_Sebastiao/\n",
            "lfw/Ana_Sebastiao/Ana_Sebastiao_0001.jpg\n",
            "lfw/Anastasia_Kelesidou/\n",
            "lfw/Anastasia_Kelesidou/Anastasia_Kelesidou_0001.jpg\n",
            "lfw/Anastasia_Myskina/\n",
            "lfw/Anastasia_Myskina/Anastasia_Myskina_0001.jpg\n",
            "lfw/Anastasia_Myskina/Anastasia_Myskina_0002.jpg\n",
            "lfw/Anastasia_Myskina/Anastasia_Myskina_0003.jpg\n",
            "lfw/Anatoliy_Kinakh/\n",
            "lfw/Anatoliy_Kinakh/Anatoliy_Kinakh_0001.jpg\n",
            "lfw/Anders_Ebbeson/\n",
            "lfw/Anders_Ebbeson/Anders_Ebbeson_0001.jpg\n",
            "lfw/Anders_Ebbeson/Anders_Ebbeson_0002.jpg\n",
            "lfw/Anders_Ebbeson/Anders_Ebbeson_0003.jpg\n",
            "lfw/Anders_Fogh_Rasmussen/\n",
            "lfw/Anders_Fogh_Rasmussen/Anders_Fogh_Rasmussen_0001.jpg\n",
            "lfw/Anders_Fogh_Rasmussen/Anders_Fogh_Rasmussen_0002.jpg\n",
            "lfw/Anders_Fogh_Rasmussen/Anders_Fogh_Rasmussen_0003.jpg\n",
            "lfw/Anders_Fogh_Rasmussen/Anders_Fogh_Rasmussen_0004.jpg\n",
            "lfw/Anderson_Varejao/\n",
            "lfw/Anderson_Varejao/Anderson_Varejao_0001.jpg\n",
            "lfw/Andrea_Bocelli/\n",
            "lfw/Andrea_Bocelli/Andrea_Bocelli_0001.jpg\n",
            "lfw/Andrea_De_Cruz/\n",
            "lfw/Andrea_De_Cruz/Andrea_De_Cruz_0001.jpg\n",
            "lfw/Andre_Agassi/\n",
            "lfw/Andre_Agassi/Andre_Agassi_0001.jpg\n",
            "lfw/Andre_Agassi/Andre_Agassi_0002.jpg\n",
            "lfw/Andre_Agassi/Andre_Agassi_0003.jpg\n",
            "lfw/Andre_Agassi/Andre_Agassi_0004.jpg\n",
            "lfw/Andre_Agassi/Andre_Agassi_0005.jpg\n",
            "lfw/Andre_Agassi/Andre_Agassi_0006.jpg\n",
            "lfw/Andre_Agassi/Andre_Agassi_0007.jpg\n",
            "lfw/Andre_Agassi/Andre_Agassi_0008.jpg\n",
            "lfw/Andre_Agassi/Andre_Agassi_0009.jpg\n",
            "lfw/Andre_Agassi/Andre_Agassi_0010.jpg\n",
            "lfw/Andre_Agassi/Andre_Agassi_0011.jpg\n",
            "lfw/Andre_Agassi/Andre_Agassi_0012.jpg\n",
            "lfw/Andre_Agassi/Andre_Agassi_0013.jpg\n",
            "lfw/Andre_Agassi/Andre_Agassi_0014.jpg\n",
            "lfw/Andre_Agassi/Andre_Agassi_0015.jpg\n",
            "lfw/Andre_Agassi/Andre_Agassi_0016.jpg\n",
            "lfw/Andre_Agassi/Andre_Agassi_0017.jpg\n",
            "lfw/Andre_Agassi/Andre_Agassi_0018.jpg\n",
            "lfw/Andre_Agassi/Andre_Agassi_0019.jpg\n",
            "lfw/Andre_Agassi/Andre_Agassi_0020.jpg\n",
            "lfw/Andre_Agassi/Andre_Agassi_0021.jpg\n",
            "lfw/Andre_Agassi/Andre_Agassi_0022.jpg\n",
            "lfw/Andre_Agassi/Andre_Agassi_0023.jpg\n",
            "lfw/Andre_Agassi/Andre_Agassi_0024.jpg\n",
            "lfw/Andre_Agassi/Andre_Agassi_0025.jpg\n",
            "lfw/Andre_Agassi/Andre_Agassi_0026.jpg\n",
            "lfw/Andre_Agassi/Andre_Agassi_0027.jpg\n",
            "lfw/Andre_Agassi/Andre_Agassi_0028.jpg\n",
            "lfw/Andre_Agassi/Andre_Agassi_0029.jpg\n",
            "lfw/Andre_Agassi/Andre_Agassi_0030.jpg\n",
            "lfw/Andre_Agassi/Andre_Agassi_0031.jpg\n",
            "lfw/Andre_Agassi/Andre_Agassi_0032.jpg\n",
            "lfw/Andre_Agassi/Andre_Agassi_0033.jpg\n",
            "lfw/Andre_Agassi/Andre_Agassi_0034.jpg\n",
            "lfw/Andre_Agassi/Andre_Agassi_0035.jpg\n",
            "lfw/Andre_Agassi/Andre_Agassi_0036.jpg\n",
            "lfw/Andrea_Kiser/\n",
            "lfw/Andrea_Kiser/Andrea_Kiser_0001.jpg\n",
            "lfw/Andreas_Vinciguerra/\n",
            "lfw/Andreas_Vinciguerra/Andreas_Vinciguerra_0001.jpg\n",
            "lfw/Andrea_Yates/\n",
            "lfw/Andrea_Yates/Andrea_Yates_0001.jpg\n",
            "lfw/Andre_Bucher/\n",
            "lfw/Andre_Bucher/Andre_Bucher_0001.jpg\n",
            "lfw/Andrei_Konchalovsky/\n",
            "lfw/Andrei_Konchalovsky/Andrei_Konchalovsky_0001.jpg\n",
            "lfw/Andrei_Mikhnevich/\n",
            "lfw/Andrei_Mikhnevich/Andrei_Mikhnevich_0001.jpg\n",
            "lfw/Andrei_Mikhnevich/Andrei_Mikhnevich_0002.jpg\n",
            "lfw/Andrei_Nikolishin/\n",
            "lfw/Andrei_Nikolishin/Andrei_Nikolishin_0001.jpg\n",
            "lfw/Andre_Lange/\n",
            "lfw/Andre_Lange/Andre_Lange_0001.jpg\n",
            "lfw/Andres_DAlessandro/\n",
            "lfw/Andres_DAlessandro/Andres_DAlessandro_0001.jpg\n",
            "lfw/Andres_Manuel_Lopez_Obrador/\n",
            "lfw/Andres_Manuel_Lopez_Obrador/Andres_Manuel_Lopez_Obrador_0001.jpg\n",
            "lfw/Andre_Smith/\n",
            "lfw/Andre_Smith/Andre_Smith_0001.jpg\n",
            "lfw/Andres_Pastrana/\n",
            "lfw/Andres_Pastrana/Andres_Pastrana_0001.jpg\n",
            "lfw/Andre_Techine/\n",
            "lfw/Andre_Techine/Andre_Techine_0001.jpg\n",
            "lfw/Andrew_Bernard/\n",
            "lfw/Andrew_Bernard/Andrew_Bernard_0001.jpg\n",
            "lfw/Andrew_Bunner/\n",
            "lfw/Andrew_Bunner/Andrew_Bunner_0001.jpg\n",
            "lfw/Andrew_Bunner/Andrew_Bunner_0002.jpg\n",
            "lfw/Andrew_Caldecott/\n",
            "lfw/Andrew_Caldecott/Andrew_Caldecott_0001.jpg\n",
            "lfw/Andrew_Cuomo/\n",
            "lfw/Andrew_Cuomo/Andrew_Cuomo_0001.jpg\n",
            "lfw/Andrew_Cuomo/Andrew_Cuomo_0002.jpg\n",
            "lfw/Andrew_Fastow/\n",
            "lfw/Andrew_Fastow/Andrew_Fastow_0001.jpg\n",
            "lfw/Andrew_Firestone/\n",
            "lfw/Andrew_Firestone/Andrew_Firestone_0001.jpg\n",
            "lfw/Andrew_Gilligan/\n",
            "lfw/Andrew_Gilligan/Andrew_Gilligan_0001.jpg\n",
            "lfw/Andrew_Jarecki/\n",
            "lfw/Andrew_Jarecki/Andrew_Jarecki_0001.jpg\n",
            "lfw/Andrew_Luster/\n",
            "lfw/Andrew_Luster/Andrew_Luster_0001.jpg\n",
            "lfw/Andrew_Niccol/\n",
            "lfw/Andrew_Niccol/Andrew_Niccol_0001.jpg\n",
            "lfw/Andrew_Niccol/Andrew_Niccol_0002.jpg\n",
            "lfw/Andrew_Sabey/\n",
            "lfw/Andrew_Sabey/Andrew_Sabey_0001.jpg\n",
            "lfw/Andrew_Shutley/\n",
            "lfw/Andrew_Shutley/Andrew_Shutley_0001.jpg\n",
            "lfw/Andrew_Weissmann/\n",
            "lfw/Andrew_Weissmann/Andrew_Weissmann_0001.jpg\n",
            "lfw/Andrew_Weissmann/Andrew_Weissmann_0002.jpg\n",
            "lfw/Andrew_Weissmann/Andrew_Weissmann_0003.jpg\n",
            "lfw/Andrew_Wetzler/\n",
            "lfw/Andrew_Wetzler/Andrew_Wetzler_0001.jpg\n",
            "lfw/Andrzej_Tyszkiewicz/\n",
            "lfw/Andrzej_Tyszkiewicz/Andrzej_Tyszkiewicz_0001.jpg\n",
            "lfw/Andy_Benes/\n",
            "lfw/Andy_Benes/Andy_Benes_0001.jpg\n",
            "lfw/Andy_Bryant/\n",
            "lfw/Andy_Bryant/Andy_Bryant_0001.jpg\n",
            "lfw/Andy_Dick/\n",
            "lfw/Andy_Dick/Andy_Dick_0001.jpg\n",
            "lfw/Andy_Garcia/\n",
            "lfw/Andy_Garcia/Andy_Garcia_0001.jpg\n",
            "lfw/Andy_Graves/\n",
            "lfw/Andy_Graves/Andy_Graves_0001.jpg\n",
            "lfw/Andy_Griffith/\n",
            "lfw/Andy_Griffith/Andy_Griffith_0001.jpg\n",
            "lfw/Andy_Griggs/\n",
            "lfw/Andy_Griggs/Andy_Griggs_0001.jpg\n",
            "lfw/Andy_Hebb/\n",
            "lfw/Andy_Hebb/Andy_Hebb_0001.jpg\n",
            "lfw/Andy_Hebb/Andy_Hebb_0002.jpg\n",
            "lfw/Andy_Lau/\n",
            "lfw/Andy_Lau/Andy_Lau_0001.jpg\n",
            "lfw/Andy_Madikians/\n",
            "lfw/Andy_Madikians/Andy_Madikians_0001.jpg\n",
            "lfw/Andy_North/\n",
            "lfw/Andy_North/Andy_North_0001.jpg\n",
            "lfw/Andy_Perez/\n",
            "lfw/Andy_Perez/Andy_Perez_0001.jpg\n",
            "lfw/Andy_Roddick/\n",
            "lfw/Andy_Roddick/Andy_Roddick_0001.jpg\n",
            "lfw/Andy_Roddick/Andy_Roddick_0002.jpg\n",
            "lfw/Andy_Roddick/Andy_Roddick_0003.jpg\n",
            "lfw/Andy_Roddick/Andy_Roddick_0004.jpg\n",
            "lfw/Andy_Roddick/Andy_Roddick_0005.jpg\n",
            "lfw/Andy_Roddick/Andy_Roddick_0006.jpg\n",
            "lfw/Andy_Roddick/Andy_Roddick_0007.jpg\n",
            "lfw/Andy_Roddick/Andy_Roddick_0008.jpg\n",
            "lfw/Andy_Roddick/Andy_Roddick_0009.jpg\n",
            "lfw/Andy_Roddick/Andy_Roddick_0010.jpg\n",
            "lfw/Andy_Roddick/Andy_Roddick_0011.jpg\n",
            "lfw/Andy_Roddick/Andy_Roddick_0012.jpg\n",
            "lfw/Andy_Roddick/Andy_Roddick_0013.jpg\n",
            "lfw/Andy_Roddick/Andy_Roddick_0014.jpg\n",
            "lfw/Andy_Roddick/Andy_Roddick_0015.jpg\n",
            "lfw/Andy_Rooney/\n",
            "lfw/Andy_Rooney/Andy_Rooney_0001.jpg\n",
            "lfw/Andy_Warhol/\n",
            "lfw/Andy_Warhol/Andy_Warhol_0001.jpg\n",
            "lfw/Andy_Wisecarver/\n",
            "lfw/Andy_Wisecarver/Andy_Wisecarver_0001.jpg\n",
            "lfw/Anette_Hosoi/\n",
            "lfw/Anette_Hosoi/Anette_Hosoi_0001.jpg\n",
            "lfw/AnFernce_Negron/\n",
            "lfw/AnFernce_Negron/AnFernce_Negron_0001.jpg\n",
            "lfw/Angela_Alvarado_Rosa/\n",
            "lfw/Angela_Alvarado_Rosa/Angela_Alvarado_Rosa_0001.jpg\n",
            "lfw/Angela_Bassett/\n",
            "lfw/Angela_Bassett/Angela_Bassett_0001.jpg\n",
            "lfw/Angela_Bassett/Angela_Bassett_0002.jpg\n",
            "lfw/Angela_Bassett/Angela_Bassett_0003.jpg\n",
            "lfw/Angela_Bassett/Angela_Bassett_0004.jpg\n",
            "lfw/Angela_Bassett/Angela_Bassett_0005.jpg\n",
            "lfw/Angela_Bassett/Angela_Bassett_0006.jpg\n",
            "lfw/Angela_Lansbury/\n",
            "lfw/Angela_Lansbury/Angela_Lansbury_0001.jpg\n",
            "lfw/Angela_Lansbury/Angela_Lansbury_0002.jpg\n",
            "lfw/Angela_Mascia-Frye/\n",
            "lfw/Angela_Mascia-Frye/Angela_Mascia-Frye_0001.jpg\n",
            "lfw/Angela_Merkel/\n",
            "lfw/Angela_Merkel/Angela_Merkel_0001.jpg\n",
            "lfw/Angela_Merkel/Angela_Merkel_0002.jpg\n",
            "lfw/Angela_Merkel/Angela_Merkel_0003.jpg\n",
            "lfw/Angela_Merkel/Angela_Merkel_0004.jpg\n",
            "lfw/Angela_Merkel/Angela_Merkel_0005.jpg\n",
            "lfw/Angelica_Romero/\n",
            "lfw/Angelica_Romero/Angelica_Romero_0001.jpg\n",
            "lfw/Angelina_Jolie/\n",
            "lfw/Angelina_Jolie/Angelina_Jolie_0001.jpg\n",
            "lfw/Angelina_Jolie/Angelina_Jolie_0002.jpg\n",
            "lfw/Angelina_Jolie/Angelina_Jolie_0003.jpg\n",
            "lfw/Angelina_Jolie/Angelina_Jolie_0004.jpg\n",
            "lfw/Angelina_Jolie/Angelina_Jolie_0005.jpg\n",
            "lfw/Angelina_Jolie/Angelina_Jolie_0006.jpg\n",
            "lfw/Angelina_Jolie/Angelina_Jolie_0007.jpg\n",
            "lfw/Angelina_Jolie/Angelina_Jolie_0008.jpg\n",
            "lfw/Angelina_Jolie/Angelina_Jolie_0009.jpg\n",
            "lfw/Angelina_Jolie/Angelina_Jolie_0010.jpg\n",
            "lfw/Angelina_Jolie/Angelina_Jolie_0011.jpg\n",
            "lfw/Angelina_Jolie/Angelina_Jolie_0012.jpg\n",
            "lfw/Angelina_Jolie/Angelina_Jolie_0013.jpg\n",
            "lfw/Angelina_Jolie/Angelina_Jolie_0014.jpg\n",
            "lfw/Angelina_Jolie/Angelina_Jolie_0015.jpg\n",
            "lfw/Angelina_Jolie/Angelina_Jolie_0016.jpg\n",
            "lfw/Angelina_Jolie/Angelina_Jolie_0017.jpg\n",
            "lfw/Angelina_Jolie/Angelina_Jolie_0018.jpg\n",
            "lfw/Angelina_Jolie/Angelina_Jolie_0019.jpg\n",
            "lfw/Angelina_Jolie/Angelina_Jolie_0020.jpg\n",
            "lfw/Angel_Lockward/\n",
            "lfw/Angel_Lockward/Angel_Lockward_0001.jpg\n",
            "lfw/Angel_Maza/\n",
            "lfw/Angel_Maza/Angel_Maza_0001.jpg\n",
            "lfw/Angelo_Genova/\n",
            "lfw/Angelo_Genova/Angelo_Genova_0001.jpg\n",
            "lfw/Angelo_Reyes/\n",
            "lfw/Angelo_Reyes/Angelo_Reyes_0001.jpg\n",
            "lfw/Angelo_Reyes/Angelo_Reyes_0002.jpg\n",
            "lfw/Angelo_Reyes/Angelo_Reyes_0003.jpg\n",
            "lfw/Angelo_Reyes/Angelo_Reyes_0004.jpg\n",
            "lfw/Angie_Arzola/\n",
            "lfw/Angie_Arzola/Angie_Arzola_0001.jpg\n",
            "lfw/Angie_Martinez/\n",
            "lfw/Angie_Martinez/Angie_Martinez_0001.jpg\n",
            "lfw/Anibal_Ibarra/\n",
            "lfw/Anibal_Ibarra/Anibal_Ibarra_0001.jpg\n",
            "lfw/Anibal_Ibarra/Anibal_Ibarra_0002.jpg\n",
            "lfw/Anibal_Ibarra/Anibal_Ibarra_0003.jpg\n",
            "lfw/Anil_Ramsook/\n",
            "lfw/Anil_Ramsook/Anil_Ramsook_0001.jpg\n",
            "lfw/Anita_DeFrantz/\n",
            "lfw/Anita_DeFrantz/Anita_DeFrantz_0001.jpg\n",
            "lfw/Anja_Paerson/\n",
            "lfw/Anja_Paerson/Anja_Paerson_0001.jpg\n",
            "lfw/Anjum_Hussain/\n",
            "lfw/Anjum_Hussain/Anjum_Hussain_0001.jpg\n",
            "lfw/Anna_Chicherova/\n",
            "lfw/Anna_Chicherova/Anna_Chicherova_0001.jpg\n",
            "lfw/Anna_Faris/\n",
            "lfw/Anna_Faris/Anna_Faris_0001.jpg\n",
            "lfw/Anna_Jones/\n",
            "lfw/Anna_Jones/Anna_Jones_0001.jpg\n",
            "lfw/Anna_Kournikova/\n",
            "lfw/Anna_Kournikova/Anna_Kournikova_0001.jpg\n",
            "lfw/Anna_Kournikova/Anna_Kournikova_0002.jpg\n",
            "lfw/Anna_Kournikova/Anna_Kournikova_0003.jpg\n",
            "lfw/Anna_Kournikova/Anna_Kournikova_0004.jpg\n",
            "lfw/Anna_Kournikova/Anna_Kournikova_0005.jpg\n",
            "lfw/Anna_Kournikova/Anna_Kournikova_0006.jpg\n",
            "lfw/Anna_Kournikova/Anna_Kournikova_0007.jpg\n",
            "lfw/Anna_Kournikova/Anna_Kournikova_0008.jpg\n",
            "lfw/Anna_Kournikova/Anna_Kournikova_0009.jpg\n",
            "lfw/Anna_Kournikova/Anna_Kournikova_0010.jpg\n",
            "lfw/Anna_Kournikova/Anna_Kournikova_0011.jpg\n",
            "lfw/Anna_Kournikova/Anna_Kournikova_0012.jpg\n",
            "lfw/Anna_Nicole_Smith/\n",
            "lfw/Anna_Nicole_Smith/Anna_Nicole_Smith_0001.jpg\n",
            "lfw/Anna_Nicole_Smith/Anna_Nicole_Smith_0002.jpg\n",
            "lfw/Anne_Cavers/\n",
            "lfw/Anne_Cavers/Anne_Cavers_0001.jpg\n",
            "lfw/Anne_Donovan/\n",
            "lfw/Anne_Donovan/Anne_Donovan_0001.jpg\n",
            "lfw/Anne_Heche/\n",
            "lfw/Anne_Heche/Anne_Heche_0001.jpg\n",
            "lfw/Anne_Krueger/\n",
            "lfw/Anne_Krueger/Anne_Krueger_0001.jpg\n",
            "lfw/Anne_Krueger/Anne_Krueger_0002.jpg\n",
            "lfw/Anne_Krueger/Anne_Krueger_0003.jpg\n",
            "lfw/Anneli_Jaatteenmaki/\n",
            "lfw/Anneli_Jaatteenmaki/Anneli_Jaatteenmaki_0001.jpg\n",
            "lfw/Anneli_Jaatteenmaki/Anneli_Jaatteenmaki_0002.jpg\n",
            "lfw/Anne_McLellan/\n",
            "lfw/Anne_McLellan/Anne_McLellan_0001.jpg\n",
            "lfw/Anne_McLellan/Anne_McLellan_0002.jpg\n",
            "lfw/Anne_McLellan/Anne_McLellan_0003.jpg\n",
            "lfw/Anne_ONeil/\n",
            "lfw/Anne_ONeil/Anne_ONeil_0001.jpg\n",
            "lfw/Annette_Bening/\n",
            "lfw/Annette_Bening/Annette_Bening_0001.jpg\n",
            "lfw/Annette_Bening/Annette_Bening_0002.jpg\n",
            "lfw/Annette_Lu/\n",
            "lfw/Annette_Lu/Annette_Lu_0001.jpg\n",
            "lfw/Annette_Lu/Annette_Lu_0002.jpg\n",
            "lfw/Annette_Lu/Annette_Lu_0003.jpg\n",
            "lfw/Ann_Godbehere/\n",
            "lfw/Ann_Godbehere/Ann_Godbehere_0001.jpg\n",
            "lfw/Annie_Chaplin/\n",
            "lfw/Annie_Chaplin/Annie_Chaplin_0001.jpg\n",
            "lfw/Annie-Jeanne_Reynaud/\n",
            "lfw/Annie-Jeanne_Reynaud/Annie-Jeanne_Reynaud_0001.jpg\n",
            "lfw/Annie_Machon/\n",
            "lfw/Annie_Machon/Annie_Machon_0001.jpg\n",
            "lfw/Annika_Sorenstam/\n",
            "lfw/Annika_Sorenstam/Annika_Sorenstam_0001.jpg\n",
            "lfw/Ann_Landers/\n",
            "lfw/Ann_Landers/Ann_Landers_0001.jpg\n",
            "lfw/Ann_Morgan/\n",
            "lfw/Ann_Morgan/Ann_Morgan_0001.jpg\n",
            "lfw/Ann_Veneman/\n",
            "lfw/Ann_Veneman/Ann_Veneman_0001.jpg\n",
            "lfw/Ann_Veneman/Ann_Veneman_0002.jpg\n",
            "lfw/Ann_Veneman/Ann_Veneman_0003.jpg\n",
            "lfw/Ann_Veneman/Ann_Veneman_0004.jpg\n",
            "lfw/Ann_Veneman/Ann_Veneman_0005.jpg\n",
            "lfw/Ann_Veneman/Ann_Veneman_0006.jpg\n",
            "lfw/Ann_Veneman/Ann_Veneman_0007.jpg\n",
            "lfw/Ann_Veneman/Ann_Veneman_0008.jpg\n",
            "lfw/Ann_Veneman/Ann_Veneman_0009.jpg\n",
            "lfw/Ann_Veneman/Ann_Veneman_0010.jpg\n",
            "lfw/Ann_Veneman/Ann_Veneman_0011.jpg\n",
            "lfw/Antanas_Valionis/\n",
            "lfw/Antanas_Valionis/Antanas_Valionis_0001.jpg\n",
            "lfw/Anthony_Carter/\n",
            "lfw/Anthony_Carter/Anthony_Carter_0001.jpg\n",
            "lfw/Anthony_Corso/\n",
            "lfw/Anthony_Corso/Anthony_Corso_0001.jpg\n",
            "lfw/Anthony_Ervin/\n",
            "lfw/Anthony_Ervin/Anthony_Ervin_0001.jpg\n",
            "lfw/Anthony_Fauci/\n",
            "lfw/Anthony_Fauci/Anthony_Fauci_0001.jpg\n",
            "lfw/Anthony_Fauci/Anthony_Fauci_0002.jpg\n",
            "lfw/Anthony_Garotinho/\n",
            "lfw/Anthony_Garotinho/Anthony_Garotinho_0001.jpg\n",
            "lfw/Anthony_Hazen/\n",
            "lfw/Anthony_Hazen/Anthony_Hazen_0001.jpg\n",
            "lfw/Anthony_Hopkins/\n",
            "lfw/Anthony_Hopkins/Anthony_Hopkins_0001.jpg\n",
            "lfw/Anthony_Hopkins/Anthony_Hopkins_0002.jpg\n",
            "lfw/Anthony_LaPaglia/\n",
            "lfw/Anthony_LaPaglia/Anthony_LaPaglia_0001.jpg\n",
            "lfw/Anthony_LaPaglia/Anthony_LaPaglia_0002.jpg\n",
            "lfw/Anthony_Lee_Johnson/\n",
            "lfw/Anthony_Lee_Johnson/Anthony_Lee_Johnson_0001.jpg\n",
            "lfw/Anthony_Mazur/\n",
            "lfw/Anthony_Mazur/Anthony_Mazur_0001.jpg\n",
            "lfw/Anthony_Pico/\n",
            "lfw/Anthony_Pico/Anthony_Pico_0001.jpg\n",
            "lfw/Anthony_Pisciotti/\n",
            "lfw/Anthony_Pisciotti/Anthony_Pisciotti_0001.jpg\n",
            "lfw/Anthony_Principi/\n",
            "lfw/Anthony_Principi/Anthony_Principi_0001.jpg\n",
            "lfw/Anthony_Rackauckas/\n",
            "lfw/Anthony_Rackauckas/Anthony_Rackauckas_0001.jpg\n",
            "lfw/Anthony_Scott_Miller/\n",
            "lfw/Anthony_Scott_Miller/Anthony_Scott_Miller_0001.jpg\n",
            "lfw/Antje_Buschschulte/\n",
            "lfw/Antje_Buschschulte/Antje_Buschschulte_0001.jpg\n",
            "lfw/Anton_Balasingham/\n",
            "lfw/Anton_Balasingham/Anton_Balasingham_0001.jpg\n",
            "lfw/Antonio_Banderas/\n",
            "lfw/Antonio_Banderas/Antonio_Banderas_0001.jpg\n",
            "lfw/Antonio_Banderas/Antonio_Banderas_0002.jpg\n",
            "lfw/Antonio_Banderas/Antonio_Banderas_0003.jpg\n",
            "lfw/Antonio_Banderas/Antonio_Banderas_0004.jpg\n",
            "lfw/Antonio_Banderas/Antonio_Banderas_0005.jpg\n",
            "lfw/Antonio_Bernardo/\n",
            "lfw/Antonio_Bernardo/Antonio_Bernardo_0001.jpg\n",
            "lfw/Antonio_Cassano/\n",
            "lfw/Antonio_Cassano/Antonio_Cassano_0001.jpg\n",
            "lfw/Antonio_Catania/\n",
            "lfw/Antonio_Catania/Antonio_Catania_0001.jpg\n",
            "lfw/Antonio_Elias_Saca/\n",
            "lfw/Antonio_Elias_Saca/Antonio_Elias_Saca_0001.jpg\n",
            "lfw/Antonio_Palocci/\n",
            "lfw/Antonio_Palocci/Antonio_Palocci_0001.jpg\n",
            "lfw/Antonio_Palocci/Antonio_Palocci_0002.jpg\n",
            "lfw/Antonio_Palocci/Antonio_Palocci_0003.jpg\n",
            "lfw/Antonio_Palocci/Antonio_Palocci_0004.jpg\n",
            "lfw/Antonio_Palocci/Antonio_Palocci_0005.jpg\n",
            "lfw/Antonio_Palocci/Antonio_Palocci_0006.jpg\n",
            "lfw/Antonio_Palocci/Antonio_Palocci_0007.jpg\n",
            "lfw/Antonio_Palocci/Antonio_Palocci_0008.jpg\n",
            "lfw/Antonio_Trillanes/\n",
            "lfw/Antonio_Trillanes/Antonio_Trillanes_0001.jpg\n",
            "lfw/Antonio_Trillanes/Antonio_Trillanes_0002.jpg\n",
            "lfw/Antonio_Trillanes/Antonio_Trillanes_0003.jpg\n",
            "lfw/Antony_Leung/\n",
            "lfw/Antony_Leung/Antony_Leung_0001.jpg\n",
            "lfw/Antony_Leung/Antony_Leung_0002.jpg\n",
            "lfw/Antony_Leung/Antony_Leung_0003.jpg\n",
            "lfw/Antony_Leung/Antony_Leung_0004.jpg\n",
            "lfw/Antwun_Echols/\n",
            "lfw/Antwun_Echols/Antwun_Echols_0001.jpg\n",
            "lfw/Anwar_Ibrahim/\n",
            "lfw/Anwar_Ibrahim/Anwar_Ibrahim_0001.jpg\n",
            "lfw/Anwar_Ibrahim/Anwar_Ibrahim_0002.jpg\n",
            "lfw/Anzori_Kikalishvili/\n",
            "lfw/Anzori_Kikalishvili/Anzori_Kikalishvili_0001.jpg\n",
            "lfw/Aparna_Pillai/\n",
            "lfw/Aparna_Pillai/Aparna_Pillai_0001.jpg\n",
            "lfw/Aram_Adler/\n",
            "lfw/Aram_Adler/Aram_Adler_0001.jpg\n",
            "lfw/Arantxa_Sanchez-Vicario/\n",
            "lfw/Arantxa_Sanchez-Vicario/Arantxa_Sanchez-Vicario_0001.jpg\n",
            "lfw/Arantxa_Sanchez-Vicario/Arantxa_Sanchez-Vicario_0002.jpg\n",
            "lfw/Aretha_Franklin/\n",
            "lfw/Aretha_Franklin/Aretha_Franklin_0001.jpg\n",
            "lfw/Arianna_Huffington/\n",
            "lfw/Arianna_Huffington/Arianna_Huffington_0001.jpg\n",
            "lfw/Arianna_Huffington/Arianna_Huffington_0002.jpg\n",
            "lfw/Arianna_Huffington/Arianna_Huffington_0003.jpg\n",
            "lfw/Arianna_Huffington/Arianna_Huffington_0004.jpg\n",
            "lfw/Ari_Bousbib/\n",
            "lfw/Ari_Bousbib/Ari_Bousbib_0001.jpg\n",
            "lfw/Arie_Haan/\n",
            "lfw/Arie_Haan/Arie_Haan_0001.jpg\n",
            "lfw/Ariel_Sharon/\n",
            "lfw/Ariel_Sharon/Ariel_Sharon_0001.jpg\n",
            "lfw/Ariel_Sharon/Ariel_Sharon_0002.jpg\n",
            "lfw/Ariel_Sharon/Ariel_Sharon_0003.jpg\n",
            "lfw/Ariel_Sharon/Ariel_Sharon_0004.jpg\n",
            "lfw/Ariel_Sharon/Ariel_Sharon_0005.jpg\n",
            "lfw/Ariel_Sharon/Ariel_Sharon_0006.jpg\n",
            "lfw/Ariel_Sharon/Ariel_Sharon_0007.jpg\n",
            "lfw/Ariel_Sharon/Ariel_Sharon_0008.jpg\n",
            "lfw/Ariel_Sharon/Ariel_Sharon_0009.jpg\n",
            "lfw/Ariel_Sharon/Ariel_Sharon_0010.jpg\n",
            "lfw/Ariel_Sharon/Ariel_Sharon_0011.jpg\n",
            "lfw/Ariel_Sharon/Ariel_Sharon_0012.jpg\n",
            "lfw/Ariel_Sharon/Ariel_Sharon_0013.jpg\n",
            "lfw/Ariel_Sharon/Ariel_Sharon_0014.jpg\n",
            "lfw/Ariel_Sharon/Ariel_Sharon_0015.jpg\n",
            "lfw/Ariel_Sharon/Ariel_Sharon_0016.jpg\n",
            "lfw/Ariel_Sharon/Ariel_Sharon_0017.jpg\n",
            "lfw/Ariel_Sharon/Ariel_Sharon_0018.jpg\n",
            "lfw/Ariel_Sharon/Ariel_Sharon_0019.jpg\n",
            "lfw/Ariel_Sharon/Ariel_Sharon_0020.jpg\n",
            "lfw/Ariel_Sharon/Ariel_Sharon_0021.jpg\n",
            "lfw/Ariel_Sharon/Ariel_Sharon_0022.jpg\n",
            "lfw/Ariel_Sharon/Ariel_Sharon_0023.jpg\n",
            "lfw/Ariel_Sharon/Ariel_Sharon_0024.jpg\n",
            "lfw/Ariel_Sharon/Ariel_Sharon_0025.jpg\n",
            "lfw/Ariel_Sharon/Ariel_Sharon_0026.jpg\n",
            "lfw/Ariel_Sharon/Ariel_Sharon_0027.jpg\n",
            "lfw/Ariel_Sharon/Ariel_Sharon_0028.jpg\n",
            "lfw/Ariel_Sharon/Ariel_Sharon_0029.jpg\n",
            "lfw/Ariel_Sharon/Ariel_Sharon_0030.jpg\n",
            "lfw/Ariel_Sharon/Ariel_Sharon_0031.jpg\n",
            "lfw/Ariel_Sharon/Ariel_Sharon_0032.jpg\n",
            "lfw/Ariel_Sharon/Ariel_Sharon_0033.jpg\n",
            "lfw/Ariel_Sharon/Ariel_Sharon_0034.jpg\n",
            "lfw/Ariel_Sharon/Ariel_Sharon_0035.jpg\n",
            "lfw/Ariel_Sharon/Ariel_Sharon_0036.jpg\n",
            "lfw/Ariel_Sharon/Ariel_Sharon_0037.jpg\n",
            "lfw/Ariel_Sharon/Ariel_Sharon_0038.jpg\n",
            "lfw/Ariel_Sharon/Ariel_Sharon_0039.jpg\n",
            "lfw/Ariel_Sharon/Ariel_Sharon_0040.jpg\n",
            "lfw/Ariel_Sharon/Ariel_Sharon_0041.jpg\n",
            "lfw/Ariel_Sharon/Ariel_Sharon_0042.jpg\n",
            "lfw/Ariel_Sharon/Ariel_Sharon_0043.jpg\n",
            "lfw/Ariel_Sharon/Ariel_Sharon_0044.jpg\n",
            "lfw/Ariel_Sharon/Ariel_Sharon_0045.jpg\n",
            "lfw/Ariel_Sharon/Ariel_Sharon_0046.jpg\n",
            "lfw/Ariel_Sharon/Ariel_Sharon_0047.jpg\n",
            "lfw/Ariel_Sharon/Ariel_Sharon_0048.jpg\n",
            "lfw/Ariel_Sharon/Ariel_Sharon_0049.jpg\n",
            "lfw/Ariel_Sharon/Ariel_Sharon_0050.jpg\n",
            "lfw/Ariel_Sharon/Ariel_Sharon_0051.jpg\n",
            "lfw/Ariel_Sharon/Ariel_Sharon_0052.jpg\n",
            "lfw/Ariel_Sharon/Ariel_Sharon_0053.jpg\n",
            "lfw/Ariel_Sharon/Ariel_Sharon_0054.jpg\n",
            "lfw/Ariel_Sharon/Ariel_Sharon_0055.jpg\n",
            "lfw/Ariel_Sharon/Ariel_Sharon_0056.jpg\n",
            "lfw/Ariel_Sharon/Ariel_Sharon_0057.jpg\n",
            "lfw/Ariel_Sharon/Ariel_Sharon_0058.jpg\n",
            "lfw/Ariel_Sharon/Ariel_Sharon_0059.jpg\n",
            "lfw/Ariel_Sharon/Ariel_Sharon_0060.jpg\n",
            "lfw/Ariel_Sharon/Ariel_Sharon_0061.jpg\n",
            "lfw/Ariel_Sharon/Ariel_Sharon_0062.jpg\n",
            "lfw/Ariel_Sharon/Ariel_Sharon_0063.jpg\n",
            "lfw/Ariel_Sharon/Ariel_Sharon_0064.jpg\n",
            "lfw/Ariel_Sharon/Ariel_Sharon_0065.jpg\n",
            "lfw/Ariel_Sharon/Ariel_Sharon_0066.jpg\n",
            "lfw/Ariel_Sharon/Ariel_Sharon_0067.jpg\n",
            "lfw/Ariel_Sharon/Ariel_Sharon_0068.jpg\n",
            "lfw/Ariel_Sharon/Ariel_Sharon_0069.jpg\n",
            "lfw/Ariel_Sharon/Ariel_Sharon_0070.jpg\n",
            "lfw/Ariel_Sharon/Ariel_Sharon_0071.jpg\n",
            "lfw/Ariel_Sharon/Ariel_Sharon_0072.jpg\n",
            "lfw/Ariel_Sharon/Ariel_Sharon_0073.jpg\n",
            "lfw/Ariel_Sharon/Ariel_Sharon_0074.jpg\n",
            "lfw/Ariel_Sharon/Ariel_Sharon_0075.jpg\n",
            "lfw/Ariel_Sharon/Ariel_Sharon_0076.jpg\n",
            "lfw/Ariel_Sharon/Ariel_Sharon_0077.jpg\n",
            "lfw/Ari_Fleischer/\n",
            "lfw/Ari_Fleischer/Ari_Fleischer_0001.jpg\n",
            "lfw/Ari_Fleischer/Ari_Fleischer_0002.jpg\n",
            "lfw/Ari_Fleischer/Ari_Fleischer_0003.jpg\n",
            "lfw/Ari_Fleischer/Ari_Fleischer_0004.jpg\n",
            "lfw/Ari_Fleischer/Ari_Fleischer_0005.jpg\n",
            "lfw/Ari_Fleischer/Ari_Fleischer_0006.jpg\n",
            "lfw/Ari_Fleischer/Ari_Fleischer_0007.jpg\n",
            "lfw/Ari_Fleischer/Ari_Fleischer_0008.jpg\n",
            "lfw/Ari_Fleischer/Ari_Fleischer_0009.jpg\n",
            "lfw/Ari_Fleischer/Ari_Fleischer_0010.jpg\n",
            "lfw/Ari_Fleischer/Ari_Fleischer_0011.jpg\n",
            "lfw/Ari_Fleischer/Ari_Fleischer_0012.jpg\n",
            "lfw/Ari_Fleischer/Ari_Fleischer_0013.jpg\n",
            "lfw/Arif_Mardin/\n",
            "lfw/Arif_Mardin/Arif_Mardin_0001.jpg\n",
            "lfw/Arlen_Specter/\n",
            "lfw/Arlen_Specter/Arlen_Specter_0001.jpg\n",
            "lfw/Arlen_Specter/Arlen_Specter_0002.jpg\n",
            "lfw/Arlen_Specter/Arlen_Specter_0003.jpg\n",
            "lfw/Armando_Avila_Panchame/\n",
            "lfw/Armando_Avila_Panchame/Armando_Avila_Panchame_0001.jpg\n",
            "lfw/Armando_Calderon_Sol/\n",
            "lfw/Armando_Calderon_Sol/Armando_Calderon_Sol_0001.jpg\n",
            "lfw/Armando_Carrillo/\n",
            "lfw/Armando_Carrillo/Armando_Carrillo_0001.jpg\n",
            "lfw/Armand_Sargen/\n",
            "lfw/Armand_Sargen/Armand_Sargen_0001.jpg\n",
            "lfw/Arminio_Fraga/\n",
            "lfw/Arminio_Fraga/Arminio_Fraga_0001.jpg\n",
            "lfw/Arminio_Fraga/Arminio_Fraga_0002.jpg\n",
            "lfw/Arminio_Fraga/Arminio_Fraga_0003.jpg\n",
            "lfw/Arminio_Fraga/Arminio_Fraga_0004.jpg\n",
            "lfw/Arminio_Fraga/Arminio_Fraga_0005.jpg\n",
            "lfw/Arminio_Fraga/Arminio_Fraga_0006.jpg\n",
            "lfw/Arnaud_Clement/\n",
            "lfw/Arnaud_Clement/Arnaud_Clement_0001.jpg\n",
            "lfw/Arnaud_Clement/Arnaud_Clement_0002.jpg\n",
            "lfw/Arnaud_Lagardere/\n",
            "lfw/Arnaud_Lagardere/Arnaud_Lagardere_0001.jpg\n",
            "lfw/Arnie_Boehm/\n",
            "lfw/Arnie_Boehm/Arnie_Boehm_0001.jpg\n",
            "lfw/Arnoldo_Aleman/\n",
            "lfw/Arnoldo_Aleman/Arnoldo_Aleman_0001.jpg\n",
            "lfw/Arnoldo_Aleman/Arnoldo_Aleman_0002.jpg\n",
            "lfw/Arnoldo_Aleman/Arnoldo_Aleman_0003.jpg\n",
            "lfw/Arnoldo_Aleman/Arnoldo_Aleman_0004.jpg\n",
            "lfw/Arnoldo_Aleman/Arnoldo_Aleman_0005.jpg\n",
            "lfw/Arnold_Palmer/\n",
            "lfw/Arnold_Palmer/Arnold_Palmer_0001.jpg\n",
            "lfw/Arnold_Palmer/Arnold_Palmer_0002.jpg\n",
            "lfw/Arnold_Palmer/Arnold_Palmer_0003.jpg\n",
            "lfw/Arnold_Schwarzenegger/\n",
            "lfw/Arnold_Schwarzenegger/Arnold_Schwarzenegger_0001.jpg\n",
            "lfw/Arnold_Schwarzenegger/Arnold_Schwarzenegger_0002.jpg\n",
            "lfw/Arnold_Schwarzenegger/Arnold_Schwarzenegger_0003.jpg\n",
            "lfw/Arnold_Schwarzenegger/Arnold_Schwarzenegger_0004.jpg\n",
            "lfw/Arnold_Schwarzenegger/Arnold_Schwarzenegger_0005.jpg\n",
            "lfw/Arnold_Schwarzenegger/Arnold_Schwarzenegger_0006.jpg\n",
            "lfw/Arnold_Schwarzenegger/Arnold_Schwarzenegger_0007.jpg\n",
            "lfw/Arnold_Schwarzenegger/Arnold_Schwarzenegger_0008.jpg\n",
            "lfw/Arnold_Schwarzenegger/Arnold_Schwarzenegger_0009.jpg\n",
            "lfw/Arnold_Schwarzenegger/Arnold_Schwarzenegger_0010.jpg\n",
            "lfw/Arnold_Schwarzenegger/Arnold_Schwarzenegger_0011.jpg\n",
            "lfw/Arnold_Schwarzenegger/Arnold_Schwarzenegger_0012.jpg\n",
            "lfw/Arnold_Schwarzenegger/Arnold_Schwarzenegger_0013.jpg\n",
            "lfw/Arnold_Schwarzenegger/Arnold_Schwarzenegger_0014.jpg\n",
            "lfw/Arnold_Schwarzenegger/Arnold_Schwarzenegger_0015.jpg\n",
            "lfw/Arnold_Schwarzenegger/Arnold_Schwarzenegger_0016.jpg\n",
            "lfw/Arnold_Schwarzenegger/Arnold_Schwarzenegger_0017.jpg\n",
            "lfw/Arnold_Schwarzenegger/Arnold_Schwarzenegger_0018.jpg\n",
            "lfw/Arnold_Schwarzenegger/Arnold_Schwarzenegger_0019.jpg\n",
            "lfw/Arnold_Schwarzenegger/Arnold_Schwarzenegger_0020.jpg\n",
            "lfw/Arnold_Schwarzenegger/Arnold_Schwarzenegger_0021.jpg\n",
            "lfw/Arnold_Schwarzenegger/Arnold_Schwarzenegger_0022.jpg\n",
            "lfw/Arnold_Schwarzenegger/Arnold_Schwarzenegger_0023.jpg\n",
            "lfw/Arnold_Schwarzenegger/Arnold_Schwarzenegger_0024.jpg\n",
            "lfw/Arnold_Schwarzenegger/Arnold_Schwarzenegger_0025.jpg\n",
            "lfw/Arnold_Schwarzenegger/Arnold_Schwarzenegger_0026.jpg\n",
            "lfw/Arnold_Schwarzenegger/Arnold_Schwarzenegger_0027.jpg\n",
            "lfw/Arnold_Schwarzenegger/Arnold_Schwarzenegger_0028.jpg\n",
            "lfw/Arnold_Schwarzenegger/Arnold_Schwarzenegger_0029.jpg\n",
            "lfw/Arnold_Schwarzenegger/Arnold_Schwarzenegger_0030.jpg\n",
            "lfw/Arnold_Schwarzenegger/Arnold_Schwarzenegger_0031.jpg\n",
            "lfw/Arnold_Schwarzenegger/Arnold_Schwarzenegger_0032.jpg\n",
            "lfw/Arnold_Schwarzenegger/Arnold_Schwarzenegger_0033.jpg\n",
            "lfw/Arnold_Schwarzenegger/Arnold_Schwarzenegger_0034.jpg\n",
            "lfw/Arnold_Schwarzenegger/Arnold_Schwarzenegger_0035.jpg\n",
            "lfw/Arnold_Schwarzenegger/Arnold_Schwarzenegger_0036.jpg\n",
            "lfw/Arnold_Schwarzenegger/Arnold_Schwarzenegger_0037.jpg\n",
            "lfw/Arnold_Schwarzenegger/Arnold_Schwarzenegger_0038.jpg\n",
            "lfw/Arnold_Schwarzenegger/Arnold_Schwarzenegger_0039.jpg\n",
            "lfw/Arnold_Schwarzenegger/Arnold_Schwarzenegger_0040.jpg\n",
            "lfw/Arnold_Schwarzenegger/Arnold_Schwarzenegger_0041.jpg\n",
            "lfw/Arnold_Schwarzenegger/Arnold_Schwarzenegger_0042.jpg\n",
            "lfw/Arnold_Scott/\n",
            "lfw/Arnold_Scott/Arnold_Scott_0001.jpg\n",
            "lfw/Aron_Ralston/\n",
            "lfw/Aron_Ralston/Aron_Ralston_0001.jpg\n",
            "lfw/Aron_Ralston/Aron_Ralston_0002.jpg\n",
            "lfw/Arsinee_Khanjian/\n",
            "lfw/Arsinee_Khanjian/Arsinee_Khanjian_0001.jpg\n",
            "lfw/Arsinee_Khanjian/Arsinee_Khanjian_0002.jpg\n",
            "lfw/Art_Cooper/\n",
            "lfw/Art_Cooper/Art_Cooper_0001.jpg\n",
            "lfw/Art_Hoffmann/\n",
            "lfw/Art_Hoffmann/Art_Hoffmann_0001.jpg\n",
            "lfw/Art_Hoffmann/Art_Hoffmann_0002.jpg\n",
            "lfw/Art_Howe/\n",
            "lfw/Art_Howe/Art_Howe_0001.jpg\n",
            "lfw/Art_Howe/Art_Howe_0002.jpg\n",
            "lfw/Art_Howe/Art_Howe_0003.jpg\n",
            "lfw/Art_Howe/Art_Howe_0004.jpg\n",
            "lfw/Arthur_Johnson/\n",
            "lfw/Arthur_Johnson/Arthur_Johnson_0001.jpg\n",
            "lfw/Arthur_Martinez/\n",
            "lfw/Arthur_Martinez/Arthur_Martinez_0001.jpg\n",
            "lfw/Artieas_Shanks/\n",
            "lfw/Artieas_Shanks/Artieas_Shanks_0001.jpg\n",
            "lfw/Art_Lopez/\n",
            "lfw/Art_Lopez/Art_Lopez_0001.jpg\n",
            "lfw/Arturo_Gatti/\n",
            "lfw/Arturo_Gatti/Arturo_Gatti_0001.jpg\n",
            "lfw/Arturo_Gatti/Arturo_Gatti_0002.jpg\n",
            "lfw/Arturo_Gatti/Arturo_Gatti_0003.jpg\n",
            "lfw/Arye_Mekel/\n",
            "lfw/Arye_Mekel/Arye_Mekel_0001.jpg\n",
            "lfw/Arye_Mekel/Arye_Mekel_0002.jpg\n",
            "lfw/Asa_Hutchinson/\n",
            "lfw/Asa_Hutchinson/Asa_Hutchinson_0001.jpg\n",
            "lfw/Asa_Hutchinson/Asa_Hutchinson_0002.jpg\n",
            "lfw/Ascencion_Barajas/\n",
            "lfw/Ascencion_Barajas/Ascencion_Barajas_0001.jpg\n",
            "lfw/Ashanti/\n",
            "lfw/Ashanti/Ashanti_0001.jpg\n",
            "lfw/Ashanti/Ashanti_0002.jpg\n",
            "lfw/Ashanti/Ashanti_0003.jpg\n",
            "lfw/Ashanti/Ashanti_0004.jpg\n",
            "lfw/Ashanti/Ashanti_0005.jpg\n",
            "lfw/Ashlea_Talbot/\n",
            "lfw/Ashlea_Talbot/Ashlea_Talbot_0001.jpg\n",
            "lfw/Ashley_Judd/\n",
            "lfw/Ashley_Judd/Ashley_Judd_0001.jpg\n",
            "lfw/Ashley_Olsen/\n",
            "lfw/Ashley_Olsen/Ashley_Olsen_0001.jpg\n",
            "lfw/Ashley_Postell/\n",
            "lfw/Ashley_Postell/Ashley_Postell_0001.jpg\n",
            "lfw/Ashraf_Alasmar/\n",
            "lfw/Ashraf_Alasmar/Ashraf_Alasmar_0001.jpg\n",
            "lfw/Ashraf_Ghani/\n",
            "lfw/Ashraf_Ghani/Ashraf_Ghani_0001.jpg\n",
            "lfw/Ashton_Kutcher/\n",
            "lfw/Ashton_Kutcher/Ashton_Kutcher_0001.jpg\n",
            "lfw/Ashton_Kutcher/Ashton_Kutcher_0002.jpg\n",
            "lfw/Ashton_Kutcher/Ashton_Kutcher_0003.jpg\n",
            "lfw/Asif_Ali_Zardari/\n",
            "lfw/Asif_Ali_Zardari/Asif_Ali_Zardari_0001.jpg\n",
            "lfw/Asif_Hanif/\n",
            "lfw/Asif_Hanif/Asif_Hanif_0001.jpg\n",
            "lfw/Askar_Akayev/\n",
            "lfw/Askar_Akayev/Askar_Akayev_0001.jpg\n",
            "lfw/Asmaa_Assad/\n",
            "lfw/Asmaa_Assad/Asmaa_Assad_0001.jpg\n",
            "lfw/Assad_Ahmadi/\n",
            "lfw/Assad_Ahmadi/Assad_Ahmadi_0001.jpg\n",
            "lfw/Astou_Ndiaye-Diatta/\n",
            "lfw/Astou_Ndiaye-Diatta/Astou_Ndiaye-Diatta_0001.jpg\n",
            "lfw/Astrid_Betancourt/\n",
            "lfw/Astrid_Betancourt/Astrid_Betancourt_0001.jpg\n",
            "lfw/Astrid_Eyzaguirre/\n",
            "lfw/Astrid_Eyzaguirre/Astrid_Eyzaguirre_0001.jpg\n",
            "lfw/Atal_Bihari_Vajpayee/\n",
            "lfw/Atal_Bihari_Vajpayee/Atal_Bihari_Vajpayee_0001.jpg\n",
            "lfw/Atal_Bihari_Vajpayee/Atal_Bihari_Vajpayee_0002.jpg\n",
            "lfw/Atal_Bihari_Vajpayee/Atal_Bihari_Vajpayee_0003.jpg\n",
            "lfw/Atal_Bihari_Vajpayee/Atal_Bihari_Vajpayee_0004.jpg\n",
            "lfw/Atal_Bihari_Vajpayee/Atal_Bihari_Vajpayee_0005.jpg\n",
            "lfw/Atal_Bihari_Vajpayee/Atal_Bihari_Vajpayee_0006.jpg\n",
            "lfw/Atal_Bihari_Vajpayee/Atal_Bihari_Vajpayee_0007.jpg\n",
            "lfw/Atal_Bihari_Vajpayee/Atal_Bihari_Vajpayee_0008.jpg\n",
            "lfw/Atal_Bihari_Vajpayee/Atal_Bihari_Vajpayee_0009.jpg\n",
            "lfw/Atal_Bihari_Vajpayee/Atal_Bihari_Vajpayee_0010.jpg\n",
            "lfw/Atal_Bihari_Vajpayee/Atal_Bihari_Vajpayee_0011.jpg\n",
            "lfw/Atal_Bihari_Vajpayee/Atal_Bihari_Vajpayee_0012.jpg\n",
            "lfw/Atal_Bihari_Vajpayee/Atal_Bihari_Vajpayee_0013.jpg\n",
            "lfw/Atal_Bihari_Vajpayee/Atal_Bihari_Vajpayee_0014.jpg\n",
            "lfw/Atal_Bihari_Vajpayee/Atal_Bihari_Vajpayee_0015.jpg\n",
            "lfw/Atal_Bihari_Vajpayee/Atal_Bihari_Vajpayee_0016.jpg\n",
            "lfw/Atal_Bihari_Vajpayee/Atal_Bihari_Vajpayee_0017.jpg\n",
            "lfw/Atal_Bihari_Vajpayee/Atal_Bihari_Vajpayee_0018.jpg\n",
            "lfw/Atal_Bihari_Vajpayee/Atal_Bihari_Vajpayee_0019.jpg\n",
            "lfw/Atal_Bihari_Vajpayee/Atal_Bihari_Vajpayee_0020.jpg\n",
            "lfw/Atal_Bihari_Vajpayee/Atal_Bihari_Vajpayee_0021.jpg\n",
            "lfw/Atal_Bihari_Vajpayee/Atal_Bihari_Vajpayee_0022.jpg\n",
            "lfw/Atal_Bihari_Vajpayee/Atal_Bihari_Vajpayee_0023.jpg\n",
            "lfw/Atal_Bihari_Vajpayee/Atal_Bihari_Vajpayee_0024.jpg\n",
            "lfw/Ataollah_Mohajerani/\n",
            "lfw/Ataollah_Mohajerani/Ataollah_Mohajerani_0001.jpg\n",
            "lfw/Atiabet_Ijan_Amabel/\n",
            "lfw/Atiabet_Ijan_Amabel/Atiabet_Ijan_Amabel_0001.jpg\n",
            "lfw/Atom_Egoyan/\n",
            "lfw/Atom_Egoyan/Atom_Egoyan_0001.jpg\n",
            "lfw/Atsushi_Sato/\n",
            "lfw/Atsushi_Sato/Atsushi_Sato_0001.jpg\n",
            "lfw/Audrey_Lacroix/\n",
            "lfw/Audrey_Lacroix/Audrey_Lacroix_0001.jpg\n",
            "lfw/Audrey_Sauret/\n",
            "lfw/Audrey_Sauret/Audrey_Sauret_0001.jpg\n",
            "lfw/Augustin_Calleri/\n",
            "lfw/Augustin_Calleri/Augustin_Calleri_0001.jpg\n",
            "lfw/Augustin_Calleri/Augustin_Calleri_0002.jpg\n",
            "lfw/Augustin_Calleri/Augustin_Calleri_0003.jpg\n",
            "lfw/Augustin_Calleri/Augustin_Calleri_0004.jpg\n",
            "lfw/Augusto_Pinochet/\n",
            "lfw/Augusto_Pinochet/Augusto_Pinochet_0001.jpg\n",
            "lfw/Augusto_Pinochet/Augusto_Pinochet_0002.jpg\n",
            "lfw/Augusto_Roa_Bastos/\n",
            "lfw/Augusto_Roa_Bastos/Augusto_Roa_Bastos_0001.jpg\n",
            "lfw/Augusto_Roa_Bastos/Augusto_Roa_Bastos_0002.jpg\n",
            "lfw/Aung_San_Suu_Kyi/\n",
            "lfw/Aung_San_Suu_Kyi/Aung_San_Suu_Kyi_0001.jpg\n",
            "lfw/Aung_San_Suu_Kyi/Aung_San_Suu_Kyi_0002.jpg\n",
            "lfw/Austin_Kearns/\n",
            "lfw/Austin_Kearns/Austin_Kearns_0001.jpg\n",
            "lfw/Avril_Lavigne/\n",
            "lfw/Avril_Lavigne/Avril_Lavigne_0001.jpg\n",
            "lfw/Azmi_Bishara/\n",
            "lfw/Azmi_Bishara/Azmi_Bishara_0001.jpg\n",
            "lfw/Azra_Akin/\n",
            "lfw/Azra_Akin/Azra_Akin_0001.jpg\n",
            "lfw/Azra_Akin/Azra_Akin_0002.jpg\n",
            "lfw/Azra_Akin/Azra_Akin_0003.jpg\n",
            "lfw/Azra_Akin/Azra_Akin_0004.jpg\n"
          ],
          "name": "stdout"
        }
      ]
    },
    {
      "cell_type": "code",
      "metadata": {
        "id": "_t5oalpIwA45",
        "colab_type": "code",
        "colab": {}
      },
      "source": [
        "# constants\n",
        "IMAGE_DIR = 'lfw'\n",
        "DEFAULT_SIZE = [250, 250] "
      ],
      "execution_count": 0,
      "outputs": []
    },
    {
      "cell_type": "code",
      "metadata": {
        "id": "SulKzP8RwA46",
        "colab_type": "code",
        "colab": {}
      },
      "source": [
        "# Reads images from filesystem and returns Array of images and imageNames.\n",
        "def readImages(imagePath = IMAGE_DIR, defaultSize = DEFAULT_SIZE):\n",
        "    images = []\n",
        "    imageNames = []\n",
        "    imageDirs = [image for image in os.listdir(imagePath) if not image.startswith('.')]\n",
        "\n",
        "    for imageDir in imageDirs:\n",
        "        dirPath = os.path.join(imagePath, imageDir)\n",
        "        dirImageNames = [image for image in os.listdir(dirPath) if not image.startswith('.')]\n",
        "        \n",
        "        for imageName in dirImageNames:\n",
        "            image = Image.open(os.path.join(dirPath, imageName))\n",
        "            image = image.convert (\"L\") # L stands for Luminance: converts image to grayscale\n",
        "            \n",
        "            if (defaultSize is not None):\n",
        "                image = image.resize(defaultSize, Image.ANTIALIAS) # resize image\n",
        "                \n",
        "            images.append(np.asarray(image, dtype = np.uint8))\n",
        "            imageNames.append(imageDir)\n",
        "    return [images, imageNames]"
      ],
      "execution_count": 0,
      "outputs": []
    },
    {
      "cell_type": "code",
      "metadata": {
        "id": "nbSMkCl1wA47",
        "colab_type": "code",
        "colab": {}
      },
      "source": [
        "[X, y] = readImages()\n"
      ],
      "execution_count": 0,
      "outputs": []
    },
    {
      "cell_type": "code",
      "metadata": {
        "id": "bVYbe2uwwA47",
        "colab_type": "code",
        "outputId": "8d8444d1-0fbd-4b67-f335-aad936d4a4a9",
        "colab": {
          "base_uri": "https://localhost:8080/",
          "height": 34
        }
      },
      "source": [
        "type(X), len(X)"
      ],
      "execution_count": 0,
      "outputs": [
        {
          "output_type": "execute_result",
          "data": {
            "text/plain": [
              "(list, 1054)"
            ]
          },
          "metadata": {
            "tags": []
          },
          "execution_count": 75
        }
      ]
    },
    {
      "cell_type": "code",
      "metadata": {
        "id": "CqsTI0SnwA48",
        "colab_type": "code",
        "outputId": "a559fbf6-3dba-4dc1-dfc0-234b4d90f9cf",
        "colab": {
          "base_uri": "https://localhost:8080/",
          "height": 34
        }
      },
      "source": [
        "type(X[0]), X[0].shape"
      ],
      "execution_count": 0,
      "outputs": [
        {
          "output_type": "execute_result",
          "data": {
            "text/plain": [
              "(numpy.ndarray, (250, 250))"
            ]
          },
          "metadata": {
            "tags": []
          },
          "execution_count": 76
        }
      ]
    },
    {
      "cell_type": "code",
      "metadata": {
        "id": "kgMFhq-CwA49",
        "colab_type": "code",
        "outputId": "bf2bb4eb-3c0f-4879-c575-e626d6ace23d",
        "colab": {
          "base_uri": "https://localhost:8080/",
          "height": 34
        }
      },
      "source": [
        "type(y), len(y)\n"
      ],
      "execution_count": 0,
      "outputs": [
        {
          "output_type": "execute_result",
          "data": {
            "text/plain": [
              "(list, 1054)"
            ]
          },
          "metadata": {
            "tags": []
          },
          "execution_count": 77
        }
      ]
    },
    {
      "cell_type": "markdown",
      "metadata": {
        "heading_collapsed": true,
        "id": "Q9Eoa4_2wA4-",
        "colab_type": "text"
      },
      "source": [
        "### Exploratory Data Analysis"
      ]
    },
    {
      "cell_type": "markdown",
      "metadata": {
        "hidden": true,
        "id": "vGWt-jZJwA4-",
        "colab_type": "text"
      },
      "source": [
        "Check from dataset if this image has correct label."
      ]
    },
    {
      "cell_type": "code",
      "metadata": {
        "hidden": true,
        "id": "6-CEEbJEwA4-",
        "colab_type": "code",
        "outputId": "25eccf7c-f5c4-47e2-d132-e7711fe2ecfe",
        "colab": {
          "base_uri": "https://localhost:8080/",
          "height": 286
        }
      },
      "source": [
        "print('Image name is: ', y[2])\n",
        "plt.imshow(X[2], cmap=plt.cm.gray)\n",
        "plt.show()"
      ],
      "execution_count": 0,
      "outputs": [
        {
          "output_type": "stream",
          "text": [
            "Image name is:  Andre_Agassi\n"
          ],
          "name": "stdout"
        },
        {
          "output_type": "display_data",
          "data": {
            "image/png": "[encoded data removed]",
            "text/plain": [
              "<Figure size 432x288 with 1 Axes>"
            ]
          },
          "metadata": {
            "tags": []
          }
        }
      ]
    },
    {
      "cell_type": "markdown",
      "metadata": {
        "hidden": true,
        "id": "5l9iqcE6wA4_",
        "colab_type": "text"
      },
      "source": [
        "Creating a mean face from all dataset faces."
      ]
    },
    {
      "cell_type": "code",
      "metadata": {
        "hidden": true,
        "id": "g0uDu21uwA5A",
        "colab_type": "code",
        "colab": {}
      },
      "source": [
        "def asRowMatrix(X):\n",
        "    if len(X) == 0: return np.array([])\n",
        "    rowMatrix = np.empty((0, X[0].size), dtype = X[0].dtype)\n",
        "    for img in X:\n",
        "        rowMatrix = np.vstack((rowMatrix, np.asarray(img).reshape(1, -1)))\n",
        "    return rowMatrix"
      ],
      "execution_count": 0,
      "outputs": []
    },
    {
      "cell_type": "code",
      "metadata": {
        "hidden": true,
        "id": "zC7vuHXrwA5A",
        "colab_type": "code",
        "outputId": "d4db2eae-99f9-40fb-b70c-bb49a30525a1",
        "colab": {
          "base_uri": "https://localhost:8080/",
          "height": 281
        }
      },
      "source": [
        "XMat = asRowMatrix(X);\n",
        "meanImage = np.reshape(XMat.mean(axis=0), X[0].shape)\n",
        "plt.imshow(meanImage, cmap=plt.cm.gray)\n",
        "plt.title('Mean Face')\n",
        "plt.show()"
      ],
      "execution_count": 0,
      "outputs": [
        {
          "output_type": "display_data",
          "data": {
            "image/png": "[encoded data removed]",
            "text/plain": [
              "<Figure size 432x288 with 1 Axes>"
            ]
          },
          "metadata": {
            "tags": []
          }
        }
      ]
    },
    {
      "cell_type": "markdown",
      "metadata": {
        "id": "hN2KkKwuwA5B",
        "colab_type": "text"
      },
      "source": [
        "### Eigendecomposition - Computing Eigenvectors and Eigenvalues"
      ]
    },
    {
      "cell_type": "markdown",
      "metadata": {
        "id": "ltocG-EywA5B",
        "colab_type": "text"
      },
      "source": [
        "#### Using Covariance Matrix"
      ]
    },
    {
      "cell_type": "code",
      "metadata": {
        "id": "EPEL3OAOwA5B",
        "colab_type": "code",
        "colab": {}
      },
      "source": [
        "def getBasisCountThatPreservesVariance(eigenValues, variance=.95):\n",
        "    for idx, cumulativeSum in enumerate(np.cumsum(eigenValues) / np.sum(eigenValues)):\n",
        "        if cumulativeSum > variance:\n",
        "            return idx\n",
        "        \n",
        "def pca(X, y):\n",
        "    n, d = X.shape\n",
        "    mu = X.mean(axis=0)\n",
        "    X = X - mu # standardising data\n",
        "    \n",
        "    if n > d:\n",
        "        C = np.dot(X.T, X) # covariance matrix\n",
        "        eigenValues, eigenVectors = np.linalg.eigh(C)\n",
        "    else:\n",
        "        C = np.dot(X, X.T) # covariance matrix\n",
        "        eigenValues, eigenVectors = np.linalg.eigh(C)\n",
        "        eigenVectors = np.dot(X.T, eigenVectors)\n",
        "        for i in range(n):\n",
        "            eigenVectors[:,i] = eigenVectors[:, i] / np.linalg.norm(eigenVectors[:, i])\n",
        "            \n",
        "    # sort eigenVectors in descending order by their eigenValue\n",
        "    idx = np.argsort(-eigenValues)\n",
        "    eigenValues = eigenValues[idx]\n",
        "    eigenVectors = eigenVectors[:, idx]\n",
        "    \n",
        "    # select based on numOfBasis\n",
        "    numOfBasis = getBasisCountThatPreservesVariance(eigenValues)\n",
        "    print('Number of useful eigenBasis are: ', numOfBasis)\n",
        "    eigenValues = eigenValues[0:numOfBasis].copy()\n",
        "    eigenVectors = eigenVectors[:, 0:numOfBasis].copy()\n",
        "    return eigenValues, eigenVectors, mu"
      ],
      "execution_count": 0,
      "outputs": []
    },
    {
      "cell_type": "markdown",
      "metadata": {
        "id": "JlViUOdGwA5C",
        "colab_type": "text"
      },
      "source": [
        "Below image explains the PCA code above:"
      ]
    },
    {
      "cell_type": "markdown",
      "metadata": {
        "id": "N3fKy1eZwA5C",
        "colab_type": "text"
      },
      "source": [
        "<img src='https://github.com/aps1070-2019/datasets/raw/master/img/eig-decom.png' />"
      ]
    },
    {
      "cell_type": "code",
      "metadata": {
        "scrolled": true,
        "id": "J53DJLjowA5C",
        "colab_type": "code",
        "colab": {}
      },
      "source": [
        "eigenValues, eigenVectors, mean = pca(XMat, y)"
      ],
      "execution_count": 0,
      "outputs": []
    },
    {
      "cell_type": "code",
      "metadata": {
        "id": "jMYy6PoswA5D",
        "colab_type": "code",
        "colab": {}
      },
      "source": [
        "# Above code in pca method is written because below code is computationally time taking.\n",
        "# C = np.dot(XMat.T, XMat) # covariance matrix\n",
        "# eigenValues, eigenVectors = np.linalg.eigh(C)"
      ],
      "execution_count": 0,
      "outputs": []
    },
    {
      "cell_type": "markdown",
      "metadata": {
        "heading_collapsed": true,
        "id": "cwM5cWedwA5D",
        "colab_type": "text"
      },
      "source": [
        "#### EigenFaces"
      ]
    },
    {
      "cell_type": "markdown",
      "metadata": {
        "hidden": true,
        "id": "YFYzpq09wA5E",
        "colab_type": "text"
      },
      "source": [
        "**What were dimensions of eigenVector in the case of Iris example?**\n",
        "\n",
        "Array of size = number of features (4 in the case of Iris).\n",
        "Array of size 4."
      ]
    },
    {
      "cell_type": "markdown",
      "metadata": {
        "hidden": true,
        "id": "nxEafj3KwA5E",
        "colab_type": "text"
      },
      "source": [
        "**What will be dimensions of eigenVector in this example?**\n",
        "\n",
        "Array of size = feature size (62500). "
      ]
    },
    {
      "cell_type": "code",
      "metadata": {
        "hidden": true,
        "id": "t-qL2GNIwA5E",
        "colab_type": "code",
        "colab": {}
      },
      "source": [
        "eigenVectors[:, 0].shape"
      ],
      "execution_count": 0,
      "outputs": []
    },
    {
      "cell_type": "markdown",
      "metadata": {
        "hidden": true,
        "id": "GxSK27XVwA5F",
        "colab_type": "text"
      },
      "source": [
        "If the dimensions of eigenVector is same as the vectorised image.\n",
        "\n",
        "What if eigenVector is displayed in image format.\n",
        "\n",
        "This is called **eigenFace.**"
      ]
    },
    {
      "cell_type": "code",
      "metadata": {
        "hidden": true,
        "scrolled": true,
        "id": "t3GrCYkEwA5F",
        "colab_type": "code",
        "colab": {}
      },
      "source": [
        "# show the first eigenFace\n",
        "plt.imshow(eigenVectors[:, 0].reshape(-1, 250), cmap = plt.cm.gray)"
      ],
      "execution_count": 0,
      "outputs": []
    },
    {
      "cell_type": "code",
      "metadata": {
        "hidden": true,
        "id": "6jJn4-2UwA5G",
        "colab_type": "code",
        "colab": {}
      },
      "source": [
        "# print first 6 eigen faces\n",
        "COUNT = 6\n",
        "ROWS = math.ceil(COUNT/3)\n",
        "fig = plt.figure(figsize=(12, ROWS * 4))\n",
        "for i in range(0, COUNT):\n",
        "    plt.subplot(ROWS, 3, i+1)\n",
        "    plt.imshow(eigenVectors[:, i].reshape(-1, 250), cmap = plt.cm.gray)\n",
        "    plt.title('#{}'.format(i+1))"
      ],
      "execution_count": 0,
      "outputs": []
    },
    {
      "cell_type": "markdown",
      "metadata": {
        "hidden": true,
        "id": "ccRlRbqzwA5H",
        "colab_type": "text"
      },
      "source": [
        "By only using first few eigenFaces:\n",
        "1. How would you get a face with white hair.\n",
        "2. Answer the same for black hair."
      ]
    },
    {
      "cell_type": "markdown",
      "metadata": {
        "hidden": true,
        "id": "k7Pf-PxKwA5H",
        "colab_type": "text"
      },
      "source": [
        "Have a good look at eigenFace number 5.\n",
        "\n",
        "Good luck sleeping tonight."
      ]
    },
    {
      "cell_type": "markdown",
      "metadata": {
        "hidden": true,
        "id": "Zokx6LFTwA5H",
        "colab_type": "text"
      },
      "source": [
        "1. **Plot the next 6 eigenFaces.**\n",
        "2. **Do you observe any difference observed between the first 6 and second 6.**"
      ]
    },
    {
      "cell_type": "markdown",
      "metadata": {
        "heading_collapsed": true,
        "id": "qg2O0RCBwA5H",
        "colab_type": "text"
      },
      "source": [
        "### Projections"
      ]
    },
    {
      "cell_type": "markdown",
      "metadata": {
        "hidden": true,
        "id": "J3NaLugLwA5H",
        "colab_type": "text"
      },
      "source": [
        "Now, we will reconstruct an image from the dataset using eigenFaces (eigenVectors)."
      ]
    },
    {
      "cell_type": "code",
      "metadata": {
        "hidden": true,
        "id": "FVACeDpdwA5H",
        "colab_type": "code",
        "colab": {}
      },
      "source": [
        "IMAGE_IDX = 10 # image idx in dataset"
      ],
      "execution_count": 0,
      "outputs": []
    },
    {
      "cell_type": "code",
      "metadata": {
        "hidden": true,
        "id": "_F7DWoONwA5I",
        "colab_type": "code",
        "colab": {}
      },
      "source": [
        "def project (W , X , mu):\n",
        "    return np.dot (X - mu , W)\n",
        "def reconstruct (W , Y , mu) :\n",
        "    return np.dot (Y , W.T) + mu"
      ],
      "execution_count": 0,
      "outputs": []
    },
    {
      "cell_type": "code",
      "metadata": {
        "hidden": true,
        "id": "yOEjhbP4wA5J",
        "colab_type": "code",
        "colab": {}
      },
      "source": [
        "# create reconstructed images\n",
        "COUNT = 6 # count of first eigenVectors used to reconstruct the image\n",
        "reconImages = []\n",
        "for numEvs in range (1, COUNT+1):\n",
        "    P = project(eigenVectors[:, 0:numEvs], X[IMAGE_IDX].reshape(1, -1), mean)\n",
        "    R = reconstruct(eigenVectors[:, 0:numEvs], P, mean)\n",
        "    reconImages.append(R.reshape(X[0].shape))"
      ],
      "execution_count": 0,
      "outputs": []
    },
    {
      "cell_type": "code",
      "metadata": {
        "hidden": true,
        "id": "owMA50x1wA5J",
        "colab_type": "code",
        "colab": {}
      },
      "source": [
        "# plot reconstructed images\n",
        "ROWS = math.ceil(COUNT/3)\n",
        "fig = plt.figure(figsize=(12, ROWS * 4))\n",
        "for i in range(0, COUNT):\n",
        "    plt.subplot(ROWS, 3, i+1)\n",
        "    plt.imshow(reconImages[i], cmap = plt.cm.gray)\n",
        "    plt.title('#{}'.format(i+1))"
      ],
      "execution_count": 0,
      "outputs": []
    },
    {
      "cell_type": "code",
      "metadata": {
        "hidden": true,
        "id": "DjS3_lALwA5K",
        "colab_type": "code",
        "colab": {}
      },
      "source": [
        "# create reconstructed images\n",
        "numEvsSet = [100, 200, 298] # these no. of eigenVectors will be used to reconstruct the image.\n",
        "COUNT = len(numEvsSet)\n",
        "reconImages = []\n",
        "for numEvs in numEvsSet:\n",
        "    P = project(eigenVectors[:, 0:numEvs], X[IMAGE_IDX].reshape(1, -1), mean)\n",
        "    R = reconstruct(eigenVectors[:, 0:numEvs], P, mean)\n",
        "    reconImages.append(R.reshape(X[0].shape))"
      ],
      "execution_count": 0,
      "outputs": []
    },
    {
      "cell_type": "code",
      "metadata": {
        "hidden": true,
        "id": "egSPF9jrwA5K",
        "colab_type": "code",
        "colab": {}
      },
      "source": [
        "# plot reconstructed images\n",
        "ROWS = math.ceil(COUNT/3)\n",
        "fig = plt.figure(figsize=(12, ROWS * 4))\n",
        "for i in range(0, COUNT):\n",
        "    plt.subplot(ROWS, 3, i+1)\n",
        "    plt.imshow(reconImages[i], cmap = plt.cm.gray)\n",
        "    plt.title('#{}'.format(i+1))"
      ],
      "execution_count": 0,
      "outputs": []
    },
    {
      "cell_type": "code",
      "metadata": {
        "hidden": true,
        "id": "e2y0pup7wA5L",
        "colab_type": "code",
        "colab": {}
      },
      "source": [
        "# actual image\n",
        "plt.imshow(X[IMAGE_IDX], cmap=plt.cm.gray)\n",
        "plt.show()"
      ],
      "execution_count": 0,
      "outputs": []
    },
    {
      "cell_type": "markdown",
      "metadata": {
        "hidden": true,
        "id": "nXBaKU0FwA5M",
        "colab_type": "text"
      },
      "source": [
        "Can you identify the person after 298 eigenVector reconstruction?"
      ]
    },
    {
      "cell_type": "markdown",
      "metadata": {
        "heading_collapsed": true,
        "id": "dHlo1FT8wA5M",
        "colab_type": "text"
      },
      "source": [
        "### Facial Recognition (Optional)"
      ]
    },
    {
      "cell_type": "markdown",
      "metadata": {
        "hidden": true,
        "id": "b65KPOTfwA5M",
        "colab_type": "text"
      },
      "source": [
        "**How a new point would be classified on the IRIS dataset after PCA.**\n",
        "\n",
        "1. Projecting all training samples into the PCA subspace.\n",
        "2. Projecting the query image into the PCA subspace.\n",
        "3. Finding the nearest neighbor (one algorithm to accomplish this) between the projected training images and the projected query image. "
      ]
    },
    {
      "cell_type": "markdown",
      "metadata": {
        "hidden": true,
        "id": "tzinZm-9wA5M",
        "colab_type": "text"
      },
      "source": [
        "**How would a new face be classified (facial recognition) after PCA.**\n",
        "\n"
      ]
    },
    {
      "cell_type": "markdown",
      "metadata": {
        "hidden": true,
        "id": "NOdw4sP6wA5M",
        "colab_type": "text"
      },
      "source": [
        "**FunFact: EigenFaces is still often considered as a baseline comparison method to demonstrate the minimum expected performance of a facial recognition system.**"
      ]
    },
    {
      "cell_type": "markdown",
      "metadata": {
        "id": "djVHN_w8wA5M",
        "colab_type": "text"
      },
      "source": [
        "## Time Series Data - Exercises\n",
        "\n",
        "The clock is ticking."
      ]
    },
    {
      "cell_type": "markdown",
      "metadata": {
        "id": "dwVsZkjMwA5N",
        "colab_type": "text"
      },
      "source": [
        "The dataset is of Tuberculosis prevalence over various countries between the given time period.\n",
        "\n",
        "Data url: 'https://raw.githubusercontent.com/aps1070-2019/datasets/master/tb-data.csv'.\n",
        "\n",
        "Answer the below questions."
      ]
    },
    {
      "cell_type": "markdown",
      "metadata": {
        "id": "nA9WOwTbwA5N",
        "colab_type": "text"
      },
      "source": [
        "You are free to do the below analysis over other time-series datasets of your interest (eg: financial stock data, etc.), provided the dataset has at least 15 columns (time points / features) and at least 100 rows (data points)."
      ]
    },
    {
      "cell_type": "markdown",
      "metadata": {
        "id": "-BHS-H5SwA5N",
        "colab_type": "text"
      },
      "source": [
        "### Question 1"
      ]
    },
    {
      "cell_type": "markdown",
      "metadata": {
        "id": "eVOW-vqbwA5N",
        "colab_type": "text"
      },
      "source": [
        "1. Display 30 random samples of the original time series data in a 10 x 3 (3 plots each in 10 rows) graph format.[1]  \n",
        "2. Do you see any recurring patterns (ie oscillations, monotonic increase or decrease, other trends)?[0.5] **As it can be seen from randomly generated plots, generally, there is no recurring patterns. In essence, this finding was expected to happen, because there are developing and developed countries whose patterns are different from each other. Moreover, some of them are large or rich while others might be affected by other infectious diseases, so clustering countries can give us better understanding about patterns.**"
      ]
    },
    {
      "cell_type": "code",
      "metadata": {
        "id": "eDg44CBcCckW",
        "colab_type": "code",
        "colab": {}
      },
      "source": [
        "from random import randint\n",
        "df = pd.read_csv('https://raw.githubusercontent.com/aps1070-2019/datasets/master/tb-data.csv', thousands=',' )\n",
        "print(df.head())\n",
        "years=[i for i in range(1990,2008)]\n",
        "COUNT = 30\n",
        "ROWS = math.ceil(COUNT/3)\n",
        "fig = plt.figure(figsize=(20, ROWS*4))\n",
        "for i in range(0, COUNT):\n",
        "  j=randint(0,206)\n",
        "  plt.subplot(ROWS, 3, i+1)\n",
        "  plt.plot(df.iloc[j,1:])\n",
        "  plt.title(\"{}\".format(df.iloc[j,0]))\n"
      ],
      "execution_count": 0,
      "outputs": []
    },
    {
      "cell_type": "markdown",
      "metadata": {
        "id": "i4xcf_DpwA5N",
        "colab_type": "text"
      },
      "source": [
        "### Question 2"
      ]
    },
    {
      "cell_type": "markdown",
      "metadata": {
        "id": "Ch7Ly5XQwA5N",
        "colab_type": "text"
      },
      "source": [
        "1. Show the first 6 principle components plotted as a time series (in a 3 plots/row format).[1]  \n",
        "2. Based on your knowledge of the dataset contents, can you explain what any of the principle components might represent?[0.5] **PCA is a variable-oriented method, which transforms a set of correlated original variables into a set of uncorrelated variables, called Principal Components (PC). These principal components are linear combinations of the original variables. By carrying out PCA we hope that a few PCs can explain most of the variation in the original data. Thus, dimensionality can be reduced with almost no loss of information.** **Needless to say, PC1 to PC18 explain highest to lowest percentage of the variance respectively. Looking at PC1 to PC6 figures as a time series, it can be inferred that PC1 (accounts for much of the total variation) will be representative of Tuberculosis prevalence trend over more countries. Likewise, PC2, as the second PC, accounts for the variation of countires (less than PC1). The foregoing explanation can be extended to other PCs.**\n"
      ]
    },
    {
      "cell_type": "code",
      "metadata": {
        "id": "4HAepn_8nhn5",
        "colab_type": "code",
        "colab": {}
      },
      "source": [
        "X=df.iloc[:,1:]\n",
        "y=df.iloc[:,0]\n",
        "labels=set(y)\n",
        "X_std = StandardScaler().fit_transform(X)  #standardizing data\n",
        "n, d = X_std.shape\n",
        "c=np.cov(X_std.T)\n",
        "eigenvalues, eigenVectors = np.linalg.eig(c)\n",
        "#print(eigenVectors.shape)\n",
        "#print(eigenvalues)\n",
        "COUNT = 6\n",
        "ROWS = math.ceil(COUNT/3)\n",
        "fig = plt.figure(figsize=(20, ROWS*4))\n",
        "for i in range(0, COUNT):\n",
        "    plt.subplot(ROWS, 3, i+1)\n",
        "    plt.plot(years, eigenVectors[:, i], marker='o')\n",
        "    plt.title('PC{}'.format(i+1))           \n"
      ],
      "execution_count": 0,
      "outputs": []
    },
    {
      "cell_type": "markdown",
      "metadata": {
        "id": "BmndIgPVwA5O",
        "colab_type": "text"
      },
      "source": [
        "### Question 3"
      ]
    },
    {
      "cell_type": "markdown",
      "metadata": {
        "id": "hvtD5MnGwA5O",
        "colab_type": "text"
      },
      "source": [
        "1. Pick an interesting data sample (ie, data from a single country) and display it.[1] **It was tried to plot 200 plots of countries in order to pick an interesting data sample. Accordingly, Northern Mariana Islands was selected as the interesting data sample!**\n",
        "\n",
        "2. Next, show its incremental reconstruction using the first 1-6 components (again plotted as a time series in a 3 plots/row format).[1]\n",
        "\n",
        "3. In addition, show another plot with the residual error of each reconstruction compared to the original sample and a title that states the RMSE of the reconstruction for each of the 6 components.[1]"
      ]
    },
    {
      "cell_type": "code",
      "metadata": {
        "id": "AVTncsjVdFgM",
        "colab_type": "code",
        "colab": {}
      },
      "source": [
        "from sklearn.metrics import mean_squared_error\n",
        "\n",
        "plt.plot(df.iloc[134,1:])\n",
        "print(\"The interesting data sample was selected as \", df.iloc[134,0])\n",
        "\n",
        "W = eigenVectors[:, 0:18]\n",
        "projX = np.dot(X_std, W)\n",
        "#fig = plt.figure(figsize=(10,8))  # this loop was created to pick an interesting data sample\n",
        "#for i in range(100, 199):\n",
        "  #plt.subplot(33, 3, i-99)\n",
        "  #plt.plot(years, projX[i])\n",
        "  #plt.title('country{}'.format(i)) \n",
        "#plt.plot(years, projX[134], marker='o')\n",
        "#print(projX.shape)\n",
        "\n",
        "sample_country=X_std[134,:]\n",
        "#P=(np.dot((sample_country-mu)),eigenVectors[:, 0:numEvs])\n",
        "\n",
        "def reconstruct (W , Y , mu) :\n",
        "    return np.dot (Y , W.T) + mu\n",
        "# create reconstructed data\n",
        "COUNT = 6 # count of first eigenVectors used to reconstruct the image\n",
        "recon = []\n",
        "for numEvs in range (1, COUNT+1):\n",
        "    P = np.dot(sample_country, eigenVectors[:, 0:numEvs])\n",
        "    R = reconstruct(eigenVectors[:, 0:numEvs], P, 0)        # mu for standardized data is 0\n",
        "    recon.append(np.array(R))\n",
        "#print(recon[1])\n",
        "\n",
        "# plot reconstructed \n",
        "ROWS = math.ceil(COUNT/3)\n",
        "fig = plt.figure(figsize=(12, ROWS * 4))\n",
        "for i in range(0, COUNT):\n",
        "  plt.subplot(ROWS, 3, i+1)\n",
        "  plt.plot(years,recon[i])\n",
        "  plt.title('reconstruction using {} component(s)'.format(i+1))   \n"
      ],
      "execution_count": 0,
      "outputs": []
    },
    {
      "cell_type": "code",
      "metadata": {
        "id": "eQn3QIvfIRgr",
        "colab_type": "code",
        "colab": {}
      },
      "source": [
        "RMSE=[]\n",
        "for k in range(6):\n",
        "  RMSE.append(np.sqrt(mean_squared_error(recon[k],X_std[134,:])))\n",
        "pc=[i+1 for i in range(6)]\n",
        "plt.plot(pc,RMSE,marker='o')\n",
        "plt.title(\"RMSE of reconstruction for each of the 6 components\")"
      ],
      "execution_count": 0,
      "outputs": []
    },
    {
      "cell_type": "code",
      "metadata": {
        "id": "286-6tbaEt5W",
        "colab_type": "code",
        "colab": {}
      },
      "source": [
        "fig = plt.figure(figsize=(22, ROWS * 4))\n",
        "for i in range(0, COUNT):\n",
        "  plt.subplot(ROWS, 3, i+1)\n",
        "  plt.plot(years,recon[i])\n",
        "  plt.title('RMSE of reconstruction using {} component(s)={}'.format(i+1,RMSE[i]))  "
      ],
      "execution_count": 0,
      "outputs": []
    },
    {
      "cell_type": "markdown",
      "metadata": {
        "id": "VNPeQSIvwA5O",
        "colab_type": "text"
      },
      "source": [
        "### Question 4"
      ]
    },
    {
      "cell_type": "markdown",
      "metadata": {
        "id": "2eGoN2SywA5O",
        "colab_type": "text"
      },
      "source": [
        "1. Plot the eigenvalues of the first 15 (or more) principle components and choose a number k of principle components that you believe will allow you to reconstruct the data well.[1]  **Considering reconstruction RMSE of different numbers of principle component, 15 principle components will be needed to reconstruct the sample data very well (with RMSE of 10% roughly). In addition, I tried to plot all of the reconstruction via 1 to 18 eigenvectors in order to find out how well it can work. Correspondingly, choosing k as 15 at least be a good choice for well reconstruction.**\n",
        "2. How many did you choose and why?[1] **As stated in above, 15 principle components should be used. Notwithstanding the great proportion of variance in PC1 and PC2, choosing the first two eigenvalues cannot reconstruct the data well. Aside from that, RMSE of each reconstruction should be taken into account. As it is calculated in the bellow code cell, by increasing the number of principle components, lower residual error will be achieved. At least, by setting K as 15, reconstruction of sample data can be achieved very well. For the sake of clarity, plotting the reconstruction based on different principle components can be tried, which can lay credence to this view.**"
      ]
    },
    {
      "cell_type": "code",
      "metadata": {
        "id": "LwZVHg7met24",
        "colab_type": "code",
        "colab": {}
      },
      "source": [
        "COUNT = 18 # count of first eigenVectors used to reconstruct the image\n",
        "total_recon = []\n",
        "for numEvs in range (1, COUNT+1):\n",
        "    P = np.dot(sample_country, eigenVectors[:, 0:numEvs])\n",
        "    R = reconstruct(eigenVectors[:, 0:numEvs], P, 0)\n",
        "    total_recon.append(np.array(R))\n",
        "total_RMSE=[]\n",
        "for k in range(18):\n",
        "  total_RMSE.append(np.sqrt(mean_squared_error(total_recon[k],X_std[134,:])))\n",
        "a=np.array(total_RMSE)\n",
        "for i in range(18):\n",
        "  print('For {} principle component(s), reconstruction RMSE={}'.format(i+1,a[i])) \n",
        "pc=[i+1 for i in range(18)] \n",
        "plt.plot(pc,eigenvalues,marker='o') \n",
        "plt.title(\"eigenvalues of the first 18 principle components\")     "
      ],
      "execution_count": 0,
      "outputs": []
    },
    {
      "cell_type": "markdown",
      "metadata": {
        "id": "RjjWsA8xwA5O",
        "colab_type": "text"
      },
      "source": [
        "### Question 5"
      ]
    },
    {
      "cell_type": "markdown",
      "metadata": {
        "id": "1gh6rzSowA5O",
        "colab_type": "text"
      },
      "source": [
        "1. Compute the mean (M) and standard deviation (StD) of the interesting data sample selected in question 3.[0.5]\n",
        "\n",
        "Random walk refers to any process in which there is no observable pattern or trend; that is, where the movements of an object, or the values taken by a certain variable, are completely random. Each \"step\" taken in a random walk can be sampled from a distribution. You may find the methods numpy.random.normal, numpy.cumsum useful for creating random walks. \n",
        "\n",
        "2. Make 6 time series of random walks of the same length as the time series in this dataset. Random walks created should have the same mean M and standard deviation StD as the data sample choosen. Each next step in the random walk is some Uniform or Gaussian perturbation from the previous sample.[1]\n",
        "    - Show for a sample random walk it's mean and standard deviation matches M and StD respectively.\n",
        "    - Visualize these 6 time series in a 2 x 3 plot.\n",
        "\n",
        "\n",
        "3. Show the reconstruction of each time series using k principle components overlayed on the original random walk. Plot this in a 2 x 3 plot and report the RMSE of the reconstruction in the title of each plot.[1]\n",
        "4. Compare these RMSE values with the ones you got for question 3.[1] **Considering RMSE values of 6 generated random walks (with k=15), residual error of this processes for each random walk is greater compared to sample data's. Therefore, it is not good at reconstruction irrespective of analogous M and StD with sample data.**"
      ]
    },
    {
      "cell_type": "code",
      "metadata": {
        "id": "C7--_xGkj6z7",
        "colab_type": "code",
        "colab": {}
      },
      "source": [
        "StD=np.std(sample_country)\n",
        "M=np.mean(sample_country)\n",
        "print(\"Mean of (standardized) sample data is\",np.mean(sample_country),\"and its Standard Deviation is\", np.std(sample_country))"
      ],
      "execution_count": 0,
      "outputs": []
    },
    {
      "cell_type": "code",
      "metadata": {
        "id": "kHqP57kVmyoz",
        "colab_type": "code",
        "colab": {}
      },
      "source": [
        "s=[]\n",
        "random_walks=[]\n",
        "for j in range(6):\n",
        "  for i in range(18):\n",
        "    s.append(np.random.normal(loc=0, scale=1))\n",
        "  new=np.array(np.cumsum(s))\n",
        "  #print(\"std:\",np.std(new),\"mean:\",np.mean(new))\n",
        "  new_std_scaled=(StD/new.std())*new\n",
        "  new_scaled=(M-np.mean(new_std_scaled))+new_std_scaled\n",
        "  #print(\"new data:\", new_scaled, \"new std:\", np.std(new_scaled),\"new mean:\",np.mean(new_scaled))\n",
        "  random_walks.append(np.array(new_scaled))\n",
        "  s=[]\n",
        "COUNT=6\n",
        "ROWS = math.ceil(COUNT/3)\n",
        "fig = plt.figure(figsize=(12, ROWS * 4))\n",
        "for i in range(0, COUNT):\n",
        "  plt.subplot(ROWS, 3, i+1)\n",
        "  plt.plot(years,random_walks[i])"
      ],
      "execution_count": 0,
      "outputs": []
    },
    {
      "cell_type": "code",
      "metadata": {
        "id": "iLplW6MeZKa8",
        "colab_type": "code",
        "colab": {}
      },
      "source": [
        "\n",
        "random_walks_std = StandardScaler().fit_transform(random_walks)\n",
        "c=np.cov(random_walks_std.T)\n",
        "eigenvalues_random, eigenVectors_random = np.linalg.eig(c)\n",
        "k=15\n",
        "W=eigenVectors_random[:,0:18]\n",
        "def reconstruct (W , Y , mu):\n",
        "  return np.dot (Y , W.T) + mu\n",
        "recon_random = []\n",
        "RMSE_random = []\n",
        "for i in range(6):\n",
        "  sample_random=random_walks_std[i]\n",
        "# create reconstructed data\n",
        "  P = np.dot(sample_random, eigenVectors_random[:, 0:k])\n",
        "  R = reconstruct(eigenVectors_random[:, 0:k], P, 0)\n",
        "  recon_random.append(np.array(R))\n",
        "  RMSE_random.append(np.sqrt(mean_squared_error(recon[i],sample_random)))\n",
        "#print(recon_random[5])\n",
        "COUNT=6\n",
        "ROWS = math.ceil(COUNT/3)\n",
        "fig = plt.figure(figsize=(12, ROWS * 4))\n",
        "for i in range(0, COUNT):\n",
        "  plt.subplot(ROWS, 3, i+1)\n",
        "  plt.plot(years,recon_random[i])\n",
        "  plt.title(\"RMSE={}\".format(RMSE_random[i]))\n"
      ],
      "execution_count": 0,
      "outputs": []
    },
    {
      "cell_type": "markdown",
      "metadata": {
        "id": "I16lWz_3wA5O",
        "colab_type": "text"
      },
      "source": [
        "### Question 6"
      ]
    },
    {
      "cell_type": "markdown",
      "metadata": {
        "id": "LPjVyALswA5P",
        "colab_type": "text"
      },
      "source": [
        "Explain how could you use PCA to do anomaly detection.[1] **The PCA-based anomaly detection can analyze available features to determine what constitutes a normal class, and applying distance metrics to identify cases that represent anomalies. This lets us train a model via using existing imbalanced data. PCA works by analyzing data that includes multiple variables. It looks for correlations among the variables, and determines the combination of values that best captures differences in outcomes. These combined feature values will be used to create a more compact feature space called the principal components.**\n",
        "**For anomaly detection, each new input is analyzed, and the anomaly detection algorithm computes its projection on the eigenvectors, together with a normalized reconstruction error. The normalized error is used as the anomaly score. The higher the error, the more anomalous the instance is. It should be stressed that the anomaly score is calculated using the \"Mahalanobis distance\" between a point and a distribution, which is the center of the transformed coordinate system.**"
      ]
    },
    {
      "cell_type": "markdown",
      "metadata": {
        "id": "7rKZXBodwA5P",
        "colab_type": "text"
      },
      "source": [
        "## References"
      ]
    },
    {
      "cell_type": "markdown",
      "metadata": {
        "id": "PA-T9S4RwA5P",
        "colab_type": "text"
      },
      "source": [
        "Understanding PCA and SVD:\n",
        "1. https://towardsdatascience.com/pca-and-svd-explained-with-numpy-5d13b0d2a4d8\n",
        "2. https://stats.stackexchange.com/questions/134282/relationship-between-svd-and-pca-how-to-use-svd-to-perform-pca\n",
        "3. https://stats.stackexchange.com/questions/2691/making-sense-of-principal-component-analysis-eigenvectors-eigenvalues\n",
        "4. https://hadrienj.github.io/posts/Deep-Learning-Book-Series-2.8-Singular-Value-Decomposition/\n",
        "\n",
        "PCA:\n",
        "1. Snippets from: https://plot.ly/ipython-notebooks/principal-component-analysis/\n",
        "2. https://www.value-at-risk.net/principal-component-analysis/\n",
        "\n",
        "Eigenfaces:\n",
        "1. Snippets from: https://github.com/svetlana-topalova/eigenfaces/blob/master/Eigenfaces.ipynb\n",
        "2. https://sandipanweb.wordpress.com/2018/01/06/eigenfaces-and-a-simple-face-detector-with-pca-svd-in-python/\n",
        "\n",
        "Author: Parth Jaggi"
      ]
    }
  ]
}